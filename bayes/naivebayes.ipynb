{
 "cells": [
  {
   "cell_type": "markdown",
   "metadata": {},
   "source": [
    "# Library and Data Import"
   ]
  },
  {
   "cell_type": "code",
   "execution_count": 103,
   "metadata": {},
   "outputs": [
    {
     "name": "stdout",
     "output_type": "stream",
     "text": [
      "       name     role         type demographic  \\\n",
      "0    buying  Feature  Categorical        None   \n",
      "1     maint  Feature  Categorical        None   \n",
      "2     doors  Feature  Categorical        None   \n",
      "3   persons  Feature  Categorical        None   \n",
      "4  lug_boot  Feature  Categorical        None   \n",
      "5    safety  Feature  Categorical        None   \n",
      "6     class   Target  Categorical        None   \n",
      "\n",
      "                                         description units missing_values  \n",
      "0                                       buying price  None             no  \n",
      "1                           price of the maintenance  None             no  \n",
      "2                                    number of doors  None             no  \n",
      "3              capacity in terms of persons to carry  None             no  \n",
      "4                           the size of luggage boot  None             no  \n",
      "5                        estimated safety of the car  None             no  \n",
      "6  evaulation level (unacceptable, acceptable, go...  None             no  \n"
     ]
    }
   ],
   "source": [
    "from ucimlrepo import fetch_ucirepo\n",
    "import pandas as pd\n",
    "import numpy as np\n",
    "from sklearn.model_selection import train_test_split\n",
    "from collections import defaultdict\n",
    "\n",
    "# Fetch the dataset\n",
    "car_dataset = fetch_ucirepo(id=19)\n",
    "\n",
    "# Data unpacking\n",
    "X = car_dataset.data.features\n",
    "y = car_dataset.data.targets\n",
    "\n",
    "# Train test split\n",
    "X_train, X_test, y_train, y_test = train_test_split(X,y, test_size = 0.2)\n",
    "\n",
    "# variable information \n",
    "print(car_dataset.variables) "
   ]
  },
  {
   "cell_type": "code",
   "execution_count": 2,
   "metadata": {},
   "outputs": [
    {
     "data": {
      "text/plain": [
       "{'uci_id': 19,\n",
       " 'name': 'Car Evaluation',\n",
       " 'repository_url': 'https://archive.ics.uci.edu/dataset/19/car+evaluation',\n",
       " 'data_url': 'https://archive.ics.uci.edu/static/public/19/data.csv',\n",
       " 'abstract': 'Derived from simple hierarchical decision model, this database may be useful for testing constructive induction and structure discovery methods.',\n",
       " 'area': 'Other',\n",
       " 'tasks': ['Classification'],\n",
       " 'characteristics': ['Multivariate'],\n",
       " 'num_instances': 1728,\n",
       " 'num_features': 6,\n",
       " 'feature_types': ['Categorical'],\n",
       " 'demographics': [],\n",
       " 'target_col': ['class'],\n",
       " 'index_col': None,\n",
       " 'has_missing_values': 'no',\n",
       " 'missing_values_symbol': None,\n",
       " 'year_of_dataset_creation': 1988,\n",
       " 'last_updated': 'Thu Aug 10 2023',\n",
       " 'dataset_doi': '10.24432/C5JP48',\n",
       " 'creators': ['Marko Bohanec'],\n",
       " 'intro_paper': {'ID': 249,\n",
       "  'type': 'NATIVE',\n",
       "  'title': 'Knowledge acquisition and explanation for multi-attribute decision making',\n",
       "  'authors': 'M. Bohanec, V. Rajkovič',\n",
       "  'venue': '8th Intl Workshop on Expert Systems and their Applications, Avignon, France',\n",
       "  'year': 1988,\n",
       "  'journal': None,\n",
       "  'DOI': None,\n",
       "  'URL': 'https://www.semanticscholar.org/paper/KNOWLEDGE-ACQUISITION-AND-EXPLANATION-FOR-DECISION-Bohanec-Rajkovi%C4%8D/8bab443ae322ff47c3e609272bd93fd4650555bc',\n",
       "  'sha': None,\n",
       "  'corpus': None,\n",
       "  'arxiv': None,\n",
       "  'mag': None,\n",
       "  'acl': None,\n",
       "  'pmid': None,\n",
       "  'pmcid': None},\n",
       " 'additional_info': {'summary': 'Car Evaluation Database was derived from a simple hierarchical decision model originally developed for the demonstration of DEX, M. Bohanec, V. Rajkovic: Expert system for decision making. Sistemica 1(1), pp. 145-157, 1990.). The model evaluates cars according to the following concept structure:\\r\\n\\r\\nCAR                      car acceptability\\r\\n. PRICE                  overall price\\r\\n. . buying               buying price\\r\\n. . maint                price of the maintenance\\r\\n. TECH                   technical characteristics\\r\\n. . COMFORT              comfort\\r\\n. . . doors              number of doors\\r\\n. . . persons            capacity in terms of persons to carry\\r\\n. . . lug_boot           the size of luggage boot\\r\\n. . safety               estimated safety of the car\\r\\n\\r\\nInput attributes are printed in lowercase. Besides the target concept (CAR), the model includes three intermediate concepts: PRICE, TECH, COMFORT. Every concept is in the original model related to its lower level descendants by a set of examples (for these examples sets see http://www-ai.ijs.si/BlazZupan/car.html).\\r\\n\\r\\nThe Car Evaluation Database contains examples with the structural information removed, i.e., directly relates CAR to the six input attributes: buying, maint, doors, persons, lug_boot, safety.\\r\\n\\r\\nBecause of known underlying concept structure, this database may be particularly useful for testing constructive induction and structure discovery methods.\\r\\n',\n",
       "  'purpose': None,\n",
       "  'funded_by': None,\n",
       "  'instances_represent': None,\n",
       "  'recommended_data_splits': None,\n",
       "  'sensitive_data': None,\n",
       "  'preprocessing_description': None,\n",
       "  'variable_info': 'buying:   vhigh, high, med, low.\\nmaint:    vhigh, high, med, low.\\ndoors:    2, 3, 4, 5more.\\npersons:  2, 4, more.\\nlug_boot: small, med, big.\\nsafety:   low, med, high.',\n",
       "  'citation': None}}"
      ]
     },
     "execution_count": 2,
     "metadata": {},
     "output_type": "execute_result"
    }
   ],
   "source": [
    "car_dataset.metadata"
   ]
  },
  {
   "cell_type": "markdown",
   "metadata": {},
   "source": [
    "## Data Exploration"
   ]
  },
  {
   "cell_type": "code",
   "execution_count": 3,
   "metadata": {},
   "outputs": [
    {
     "name": "stdout",
     "output_type": "stream",
     "text": [
      "<class 'pandas.core.frame.DataFrame'>\n",
      "<class 'pandas.core.frame.DataFrame'>\n"
     ]
    }
   ],
   "source": [
    "print(type(X))\n",
    "print(type(y))"
   ]
  },
  {
   "cell_type": "code",
   "execution_count": 4,
   "metadata": {},
   "outputs": [
    {
     "name": "stdout",
     "output_type": "stream",
     "text": [
      "       buying  maint doors persons lug_boot safety\n",
      "count    1728   1728  1728    1728     1728   1728\n",
      "unique      4      4     4       3        3      3\n",
      "top     vhigh  vhigh     2       2    small    low\n",
      "freq      432    432   432     576      576    576 \n",
      "\n",
      "     buying  maint  doors persons lug_boot safety\n",
      "1010    med   high      3       4    small   high\n",
      "1188    med    low      2       2    small    low\n",
      "1175    med    med  5more       4      med   high\n",
      "1421    low   high      2       4      big   high\n",
      "539    high  vhigh  5more    more      big   high\n",
      "230   vhigh    med      2       4      med   high\n",
      "815    high    low      4       2      med   high\n",
      "1369    low  vhigh      4    more    small    med\n",
      "1180    med    med  5more    more    small    med\n",
      "1395    low  vhigh  5more    more    small    low\n",
      "27    vhigh  vhigh      3       2    small    low\n",
      "1416    low   high      2       4      med    low\n",
      "324   vhigh    low      2       2    small    low\n",
      "1148    med    med      4       4      med   high\n",
      "894     med  vhigh      3       2      med    low\n",
      "1700    low    low      4    more      big   high\n",
      "311   vhigh    med  5more       4      med   high\n",
      "1242    med    low      4       2    small    low\n",
      "1101    med    med      2    more      med    low\n",
      "1045    med   high      4    more    small    med\n"
     ]
    }
   ],
   "source": [
    "print(f\"{X.describe()} \\n\")\n",
    "\n",
    "print(X.sample(20))"
   ]
  },
  {
   "cell_type": "code",
   "execution_count": 5,
   "metadata": {},
   "outputs": [
    {
     "data": {
      "text/html": [
       "<div>\n",
       "<style scoped>\n",
       "    .dataframe tbody tr th:only-of-type {\n",
       "        vertical-align: middle;\n",
       "    }\n",
       "\n",
       "    .dataframe tbody tr th {\n",
       "        vertical-align: top;\n",
       "    }\n",
       "\n",
       "    .dataframe thead th {\n",
       "        text-align: right;\n",
       "    }\n",
       "</style>\n",
       "<table border=\"1\" class=\"dataframe\">\n",
       "  <thead>\n",
       "    <tr style=\"text-align: right;\">\n",
       "      <th></th>\n",
       "      <th>buying</th>\n",
       "      <th>maint</th>\n",
       "      <th>doors</th>\n",
       "      <th>persons</th>\n",
       "      <th>lug_boot</th>\n",
       "      <th>safety</th>\n",
       "      <th>class</th>\n",
       "    </tr>\n",
       "  </thead>\n",
       "  <tbody>\n",
       "    <tr>\n",
       "      <th>62</th>\n",
       "      <td>vhigh</td>\n",
       "      <td>vhigh</td>\n",
       "      <td>4</td>\n",
       "      <td>2</td>\n",
       "      <td>big</td>\n",
       "      <td>high</td>\n",
       "      <td>unacc</td>\n",
       "    </tr>\n",
       "    <tr>\n",
       "      <th>1140</th>\n",
       "      <td>med</td>\n",
       "      <td>med</td>\n",
       "      <td>4</td>\n",
       "      <td>2</td>\n",
       "      <td>big</td>\n",
       "      <td>low</td>\n",
       "      <td>unacc</td>\n",
       "    </tr>\n",
       "    <tr>\n",
       "      <th>677</th>\n",
       "      <td>high</td>\n",
       "      <td>med</td>\n",
       "      <td>3</td>\n",
       "      <td>2</td>\n",
       "      <td>small</td>\n",
       "      <td>high</td>\n",
       "      <td>unacc</td>\n",
       "    </tr>\n",
       "    <tr>\n",
       "      <th>894</th>\n",
       "      <td>med</td>\n",
       "      <td>vhigh</td>\n",
       "      <td>3</td>\n",
       "      <td>2</td>\n",
       "      <td>med</td>\n",
       "      <td>low</td>\n",
       "      <td>unacc</td>\n",
       "    </tr>\n",
       "    <tr>\n",
       "      <th>528</th>\n",
       "      <td>high</td>\n",
       "      <td>vhigh</td>\n",
       "      <td>5more</td>\n",
       "      <td>4</td>\n",
       "      <td>big</td>\n",
       "      <td>low</td>\n",
       "      <td>unacc</td>\n",
       "    </tr>\n",
       "    <tr>\n",
       "      <th>59</th>\n",
       "      <td>vhigh</td>\n",
       "      <td>vhigh</td>\n",
       "      <td>4</td>\n",
       "      <td>2</td>\n",
       "      <td>med</td>\n",
       "      <td>high</td>\n",
       "      <td>unacc</td>\n",
       "    </tr>\n",
       "    <tr>\n",
       "      <th>91</th>\n",
       "      <td>vhigh</td>\n",
       "      <td>vhigh</td>\n",
       "      <td>5more</td>\n",
       "      <td>4</td>\n",
       "      <td>small</td>\n",
       "      <td>med</td>\n",
       "      <td>unacc</td>\n",
       "    </tr>\n",
       "    <tr>\n",
       "      <th>192</th>\n",
       "      <td>vhigh</td>\n",
       "      <td>high</td>\n",
       "      <td>5more</td>\n",
       "      <td>2</td>\n",
       "      <td>med</td>\n",
       "      <td>low</td>\n",
       "      <td>unacc</td>\n",
       "    </tr>\n",
       "    <tr>\n",
       "      <th>318</th>\n",
       "      <td>vhigh</td>\n",
       "      <td>med</td>\n",
       "      <td>5more</td>\n",
       "      <td>more</td>\n",
       "      <td>med</td>\n",
       "      <td>low</td>\n",
       "      <td>unacc</td>\n",
       "    </tr>\n",
       "    <tr>\n",
       "      <th>604</th>\n",
       "      <td>high</td>\n",
       "      <td>high</td>\n",
       "      <td>4</td>\n",
       "      <td>4</td>\n",
       "      <td>small</td>\n",
       "      <td>med</td>\n",
       "      <td>unacc</td>\n",
       "    </tr>\n",
       "  </tbody>\n",
       "</table>\n",
       "</div>"
      ],
      "text/plain": [
       "     buying  maint  doors persons lug_boot safety  class\n",
       "62    vhigh  vhigh      4       2      big   high  unacc\n",
       "1140    med    med      4       2      big    low  unacc\n",
       "677    high    med      3       2    small   high  unacc\n",
       "894     med  vhigh      3       2      med    low  unacc\n",
       "528    high  vhigh  5more       4      big    low  unacc\n",
       "59    vhigh  vhigh      4       2      med   high  unacc\n",
       "91    vhigh  vhigh  5more       4    small    med  unacc\n",
       "192   vhigh   high  5more       2      med    low  unacc\n",
       "318   vhigh    med  5more    more      med    low  unacc\n",
       "604    high   high      4       4    small    med  unacc"
      ]
     },
     "execution_count": 5,
     "metadata": {},
     "output_type": "execute_result"
    }
   ],
   "source": [
    "df = pd.concat([X,y],axis=1)\n",
    "df.sample(10)"
   ]
  },
  {
   "cell_type": "code",
   "execution_count": 6,
   "metadata": {},
   "outputs": [
    {
     "data": {
      "text/plain": [
       "array(['unacc', 'acc', 'vgood', 'good'], dtype=object)"
      ]
     },
     "execution_count": 6,
     "metadata": {},
     "output_type": "execute_result"
    }
   ],
   "source": [
    "y['class'].unique()"
   ]
  },
  {
   "cell_type": "code",
   "execution_count": 65,
   "metadata": {},
   "outputs": [
    {
     "data": {
      "text/plain": [
       "(1382, 7)"
      ]
     },
     "execution_count": 65,
     "metadata": {},
     "output_type": "execute_result"
    }
   ],
   "source": [
    "df_train = pd.concat([X_train,y_train],axis=1)\n",
    "df_train.shape"
   ]
  },
  {
   "cell_type": "markdown",
   "metadata": {},
   "source": [
    "# Naive Bayes algorithm\n",
    "\n",
    "In a Naives Bayes classifier, one can learn the probability that an outcome happens given the conditions of the feature. Taken the tennis example, when given that the day is sunny (S), temperature is cool (C), humidity is high (H), and wind is strong (St), the desired output is the probability that players come to the court. Using Naive Bayes assumption, one can calculate this probability as \n",
    "\n",
    "$$p(Play\\_Tennis = Y|Sunny,Cool,High,Strong) = p(Y)\\times p(S|Y)\\times p(C|Y)\\times p(H|Y)\\times p(St|Y)$$\n",
    "\n",
    "The prior probability of Play_Tennis = Y is calculated as the number of yes occurences over the total number of samples. The conditional probabilities (such as $p(S|Y)$) is determined from the given dataset as the number of occurences where Play_Tennis is Yes and Outlook is Sunny over the total number of occurences where Play_Tennis is Yes. \n",
    "$$p(Outlook = Sunny|Play\\_Tennis=Yes) = \\frac{\\text{\\# S and Y}}{\\text{\\# Y}}$$\n",
    "\n",
    "\n",
    "In the car evaluation example, there are three outcomes - unacceptable, acceptable, good, and vgood. The categories of the features were explored in the previous step and reported here\n",
    "* buying: The buying price has 4 categories - low, med, high, and vhigh\n",
    "* maint: The maintenance price has the similar 4 categories\n",
    "* doors: The number of doors has 4 categories - 2, 3, 4, and 5more\n",
    "* person: The number of passenger capacity has 3 categories - 2, 4, and more\n",
    "* lug_boot: The size of luggage boot has 3 categories - small, med, and big\n",
    "* safety: The estimated car safety has 3 categories - low, med, and high\n"
   ]
  },
  {
   "cell_type": "markdown",
   "metadata": {},
   "source": [
    "## Functions for determining prior and conditional probabilities "
   ]
  },
  {
   "cell_type": "code",
   "execution_count": null,
   "metadata": {},
   "outputs": [
    {
     "name": "stdout",
     "output_type": "stream",
     "text": [
      "Number of occurences where: \n",
      "- Buying price is VHIGH: 432\n",
      "- Class is VGOOD: 65\n",
      "- Buying price is VHIGH and class is GOOD: 0 \n",
      "- Buying price is HIGH and class is UNACC: 360 \n",
      "- Safety is HIGH and class is UNACC: 0 \n",
      "- Doors is 5MORE and class is GOOD: 18 \n",
      "- Maintenance price is HIGH and class is GOOD: 0\n"
     ]
    }
   ],
   "source": [
    "def count_occurrences(df, conditions):\n",
    "    \n",
    "    \"\"\"\n",
    "    Counts the number of occurrences in a DataFrame that match given conditions.\n",
    "\n",
    "    Parameters\n",
    "    - df: DataFrame to count occurrences from.\n",
    "    - conditions: Dictionary specifying conditions (e.g., {'column_name': 'value'}).\n",
    "\n",
    "    Returns:\n",
    "    - int: The count of occurrences matching the conditions.\n",
    "    \"\"\"\n",
    "    # Start with the entire DataFrame and filter down based on conditions\n",
    "    filtered_df = df\n",
    "    for column, value in conditions.items():\n",
    "        filtered_df = filtered_df[filtered_df[column] == value]\n",
    "    return len(filtered_df)\n",
    "\n",
    "print(f\"Number of occurences where: \\n\"\n",
    "      f\"- Buying price is VHIGH: {count_occurrences(df,{'buying':'vhigh'})}\\n\"\n",
    "      f\"- Class is VGOOD: {count_occurrences(df,{'class':'vgood'})}\\n\"\n",
    "      f\"- Buying price is VHIGH and class is GOOD: {count_occurrences(df, {'buying': 'vhigh','class':'good'})} \\n\"\n",
    "      f\"- Buying price is HIGH and class is UNACC: {count_occurrences(df, {'buying': 'vhigh','class':'unacc'})} \\n\"\n",
    "      f\"- Safety is HIGH and class is UNACC: {count_occurrences(df, {'safety': 'vhigh','class':'unacc'})} \\n\"\n",
    "      f\"- Doors is 5MORE and class is GOOD: {count_occurrences(df, {'doors': '5more','class':'good'})} \\n\"\n",
    "      f\"- Maintenance price is HIGH and class is GOOD: {count_occurrences(df, {'maint': 'high','class':'good'})}\")"
   ]
  },
  {
   "cell_type": "code",
   "execution_count": 77,
   "metadata": {},
   "outputs": [
    {
     "data": {
      "text/plain": [
       "Index(['buying', 'maint', 'doors', 'persons', 'lug_boot', 'safety', 'class'], dtype='object')"
      ]
     },
     "execution_count": 77,
     "metadata": {},
     "output_type": "execute_result"
    }
   ],
   "source": [
    "df.columns"
   ]
  },
  {
   "cell_type": "code",
   "execution_count": null,
   "metadata": {},
   "outputs": [],
   "source": [
    "def find_prior_prob(df, condition):\n",
    "    ''' \n",
    "    This function finds the prior probability P(a=A) by determining the number of samples in the entire dataset and the number of occurences of A\n",
    "\n",
    "    Parameters:\n",
    "    - df: DataFrame to count occurrences from.\n",
    "    - conditions: Dictionary specifying the condition or the value of event A (e.g. {'buying'}:{'high'})\n",
    "\n",
    "    Returns:\n",
    "    - float: The prior probability that even A happens \n",
    "    '''\n",
    "    num_instances = len(df)\n",
    "    num_cond = count_occurrences(df, condition)\n",
    "    \n",
    "    prior_prob = num_cond / num_instances\n",
    "\n",
    "    return prior_prob\n",
    "\n",
    "def find_prior_probs(df, label_column):\n",
    "    '''\n",
    "    This function finds the prior probability of each class in the dataframe and report them in a dictionary\n",
    "\n",
    "    Parameters:\n",
    "    - df (pd dataframe): DataFrame from which the probability is determined\n",
    "    - label_colum (str): name of the class/label column\n",
    "\n",
    "    Returns:\n",
    "    - class_prior (dict): the dictionary containing class (key) and their corresponding prior probabilities (value)\n",
    "    '''\n",
    "    classes = df[label_column].unique()                 # List of the classes\n",
    "    num_instances = len(df)\n",
    "    class_prior_probs = {}\n",
    "\n",
    "    for class_value in classes:\n",
    "        class_count = df[df[label_column]==class_value].shape[0]\n",
    "        class_prior_probs[str(class_value)] = class_count / num_instances\n",
    "\n",
    "    return class_prior_probs\n",
    "\n",
    "def find_cond_prob(df, prior_condition, condition):\n",
    "    ''' \n",
    "    This function finds the conditional probability P(a=A|b=B) by first finding the number of B occurences in the data, then find the occurences of A given that B occured\n",
    "    \n",
    "    Parameters:\n",
    "    - df: DataFrame to count occurrences from.\n",
    "    - prior_condition: Dictionary specifying the condition or the value of event B (e.g. {'class'}:{'good'})\n",
    "    - conditions: Dictionary specifying the condition or the value of event A (e.g. {'buying'}:{'high'})\n",
    "\n",
    "\n",
    "    Returns:\n",
    "    - float: The conditional probability P(A|B)\n",
    "    '''\n",
    "    # Filter down the dataframe to only include the occurences that satisfy the prior condition\n",
    "    for column, value in prior_condition.items():\n",
    "        filtered_df = df[df[column] ==  value]\n",
    "    num_instances = len(filtered_df)\n",
    "\n",
    "    # Count the number of occurences that satify the condition, given that the prior condition is already satisfied\n",
    "    # (In other words, count the occurences that satisfy the condition from the filtered dataframe)\n",
    "    num_cond = count_occurrences(filtered_df,condition)\n",
    "    \n",
    "    cond_prob = num_cond/num_instances\n",
    "\n",
    "    return cond_prob \n",
    "\n",
    "def find_cond_probs(df, label_column):\n",
    "    classes = df[label_column].unique()\n",
    "    class_prior_probs = find_prior_probs(df,label_column)\n",
    "\n",
    "    feature_cond_probs = defaultdict(lambda: defaultdict(lambda: defaultdict(float)))\n",
    "    '''This is a nested dictionary of the following structure\n",
    "        - Level 1 - Class Values: This level has the class values and the next dictionary level as the key-value pair\n",
    "            - Level 2 - Feature Names: This level of dictionary has the feature name and the next dictionary level as the key-value pair\n",
    "                - Level 3 - Feature Values: This level of dictionary has the feature value and the conditional probabilities P(feature == feature value | class == class value) as the key-value pair \n",
    "    '''\n",
    "\n",
    "    # Considering the conditional probability feature by feature\n",
    "    for feature in df.columns:\n",
    "        # Skip this step if the feature is the label column of the dataframe\n",
    "        if feature == label_column:\n",
    "            pass\n",
    "        \n",
    "        # Iterate over each class c of the dataframe to find the conditional probabilities of each feature P(feature = value | class)\n",
    "        for c in classes: \n",
    "            df_subset = df[df[label_column]==c]                         # Subset of the dataframe where class has the value c\n",
    "            feature_count = df_subset[feature].value_counts()           # Get a series with the number of instances of each feature value in the subset\n",
    "\n",
    "            # Iterate over all the feature values and calculate the conditional probabilities of each value \n",
    "            for value, count in feature_count.items():                  \n",
    "                feature_cond_probs[c][feature][value] = count / len(df_subset)\n",
    "\n",
    "    return feature_cond_probs"
   ]
  },
  {
   "cell_type": "markdown",
   "metadata": {},
   "source": [
    "## Evaluating specific conditional probabilities\n",
    "This section is to test the find_prior_prob() and find_cond_prob() functions, which determine the prior and condition probabilities given a single specific condition"
   ]
  },
  {
   "cell_type": "code",
   "execution_count": 124,
   "metadata": {},
   "outputs": [
    {
     "name": "stdout",
     "output_type": "stream",
     "text": [
      "The prior probability of the class LOW: 0.6931982633863966\n",
      "The probability that buying price is LOW, given that the class is VGOOD is: 0.5849056603773585 \n",
      "The probability that the class is VGOOD, given that buying price is LOW is: 0.09281437125748503\n",
      " => From this finding, one can conclude that if the car is VGOOD, the buying price of the car is most likely LOW.\n",
      "    However, having a low price does not guarantee that the car is classified as VGOOD since there are other deterrent criteria such as high maintenance price or low safety\n",
      "\n",
      "The conditional probability that buying price is LOW, given that the class is VGOOD is: 0.5849056603773585 \n",
      "The conditional probability that buying price is MED, given that the class is VGOOD is: 0.41509433962264153 \n",
      "The conditional probability that buying price is HIGH, given that the class is VGOOD is: 0.0 \n",
      "The conditional probability that buying price is VHIGH, given that the class is VGOOD is: 0.0\n",
      " => From this finding, one can conclude that if the car is VGOOD, the buying price of the car can only be LOW or MED and never HIGH or VHIGH \n",
      "\n",
      "The conditional probability that buying price is LOW, given that the class is UNACC is: 0.20146137787056367 \n",
      "The conditional probability that buying price is MED, given that the class is UNACC is: 0.22129436325678498 \n",
      "The conditional probability that buying price is HIGH, given that the class is UNACC is: 0.27348643006263046 \n",
      "The conditional probability that buying price is VHIGH, given that the class is UNACC is: 0.3037578288100209\n",
      " => From this finding, one can conclude that if the car is UNACC, the buying price can be of any value but more likely HIGH or VHIGH.\n"
     ]
    }
   ],
   "source": [
    "print(f\"The prior probability of the class LOW: {find_prior_prob(df_train, {'class':'unacc'})}\")\n",
    "\n",
    "print(f\"The probability that buying price is LOW, given that the class is VGOOD is: {find_cond_prob(df_train, {'class':'vgood'}, {'buying':'low'})} \\n\"\n",
    "      f\"The probability that the class is VGOOD, given that buying price is LOW is: {find_cond_prob(df_train, {'buying':'low'}, {'class':'vgood'})}\")\n",
    "\n",
    "print(f\" => From this finding, one can conclude that if the car is VGOOD, the buying price of the car is most likely LOW.\\n\" \n",
    "      f\"    However, having a low price does not guarantee that the car is classified as VGOOD since there are other deterrent criteria such as high maintenance price or low safety\\n\")\n",
    "\n",
    "print(f\"The conditional probability that buying price is LOW, given that the class is VGOOD is: {find_cond_prob(df_train, {'class':'vgood'}, {'buying':'low'})} \\n\"\n",
    "      f\"The conditional probability that buying price is MED, given that the class is VGOOD is: {find_cond_prob(df_train, {'class':'vgood'}, {'buying':'med'})} \\n\"\n",
    "      f\"The conditional probability that buying price is HIGH, given that the class is VGOOD is: {find_cond_prob(df_train, {'class':'vgood'}, {'buying':'high'})} \\n\"\n",
    "      f\"The conditional probability that buying price is VHIGH, given that the class is VGOOD is: {find_cond_prob(df_train, {'class':'vgood'}, {'buying':'vhigh'})}\")\n",
    "\n",
    "print(\" => From this finding, one can conclude that if the car is VGOOD, the buying price of the car can only be LOW or MED and never HIGH or VHIGH \\n\")\n",
    "\n",
    "print(f\"The conditional probability that buying price is LOW, given that the class is UNACC is: {find_cond_prob(df_train, {'class':'unacc'}, {'buying':'low'})} \\n\"\n",
    "      f\"The conditional probability that buying price is MED, given that the class is UNACC is: {find_cond_prob(df_train, {'class':'unacc'}, {'buying':'med'})} \\n\"\n",
    "      f\"The conditional probability that buying price is HIGH, given that the class is UNACC is: {find_cond_prob(df_train, {'class':'unacc'}, {'buying':'high'})} \\n\"\n",
    "      f\"The conditional probability that buying price is VHIGH, given that the class is UNACC is: {find_cond_prob(df_train, {'class':'unacc'}, {'buying':'vhigh'})}\")\n",
    "\n",
    "print(\" => From this finding, one can conclude that if the car is UNACC, the buying price can be of any value but more likely HIGH or VHIGH.\")"
   ]
  },
  {
   "cell_type": "markdown",
   "metadata": {},
   "source": [
    "## Determine the conditional probabilities of all cases\n",
    "This section shows the result of the functions find_prior_probs() and find_cond_probs(), which determine the prior and conditional probabilities for all classes and all probability \n",
    "$$P(\\text{feature values}|\\text{class values})$$"
   ]
  },
  {
   "cell_type": "code",
   "execution_count": 120,
   "metadata": {},
   "outputs": [
    {
     "name": "stdout",
     "output_type": "stream",
     "text": [
      "The prior probability of class = good is 4.197%\n",
      "The prior probability of class = unacc is 69.320%\n",
      "The prior probability of class = acc is 22.648%\n",
      "The prior probability of class = vgood is 3.835%\n"
     ]
    }
   ],
   "source": [
    "result = find_prior_probs(df_train,'class')\n",
    "\n",
    "for key, value in result.items():\n",
    "    print(f\"The prior probability of class = {key} is {value*100:.3f}%\")"
   ]
  },
  {
   "cell_type": "code",
   "execution_count": 121,
   "metadata": {},
   "outputs": [
    {
     "data": {
      "text/plain": [
       "defaultdict(<function __main__.find_cond_probs.<locals>.<lambda>()>,\n",
       "            {'good': defaultdict(<function __main__.find_cond_probs.<locals>.<lambda>.<locals>.<lambda>()>,\n",
       "                         {'buying': defaultdict(float,\n",
       "                                      {'low': 0.6379310344827587,\n",
       "                                       'med': 0.3620689655172414}),\n",
       "                          'maint': defaultdict(float,\n",
       "                                      {'low': 0.7068965517241379,\n",
       "                                       'med': 0.29310344827586204}),\n",
       "                          'doors': defaultdict(float,\n",
       "                                      {'5more': 0.29310344827586204,\n",
       "                                       '4': 0.25862068965517243,\n",
       "                                       '2': 0.2413793103448276,\n",
       "                                       '3': 0.20689655172413793}),\n",
       "                          'persons': defaultdict(float,\n",
       "                                      {'more': 0.5, '4': 0.5}),\n",
       "                          'lug_boot': defaultdict(float,\n",
       "                                      {'big': 0.3620689655172414,\n",
       "                                       'med': 0.3448275862068966,\n",
       "                                       'small': 0.29310344827586204}),\n",
       "                          'safety': defaultdict(float,\n",
       "                                      {'med': 0.603448275862069,\n",
       "                                       'high': 0.39655172413793105}),\n",
       "                          'class': defaultdict(float, {'good': 1.0})}),\n",
       "             'unacc': defaultdict(<function __main__.find_cond_probs.<locals>.<lambda>.<locals>.<lambda>()>,\n",
       "                         {'buying': defaultdict(float,\n",
       "                                      {'vhigh': 0.3037578288100209,\n",
       "                                       'high': 0.27348643006263046,\n",
       "                                       'med': 0.22129436325678498,\n",
       "                                       'low': 0.20146137787056367}),\n",
       "                          'maint': defaultdict(float,\n",
       "                                      {'vhigh': 0.29331941544885176,\n",
       "                                       'high': 0.2776617954070981,\n",
       "                                       'med': 0.21816283924843424,\n",
       "                                       'low': 0.21085594989561587}),\n",
       "                          'doors': defaultdict(float,\n",
       "                                      {'2': 0.27244258872651356,\n",
       "                                       '3': 0.255741127348643,\n",
       "                                       '5more': 0.23903966597077245,\n",
       "                                       '4': 0.23277661795407098}),\n",
       "                          'persons': defaultdict(float,\n",
       "                                      {'2': 0.48538622129436326,\n",
       "                                       'more': 0.2578288100208768,\n",
       "                                       '4': 0.2567849686847599}),\n",
       "                          'lug_boot': defaultdict(float,\n",
       "                                      {'small': 0.3736951983298539,\n",
       "                                       'med': 0.3267223382045929,\n",
       "                                       'big': 0.29958246346555323}),\n",
       "                          'safety': defaultdict(float,\n",
       "                                      {'low': 0.4780793319415449,\n",
       "                                       'med': 0.2849686847599165,\n",
       "                                       'high': 0.23695198329853862}),\n",
       "                          'class': defaultdict(float, {'unacc': 1.0})}),\n",
       "             'acc': defaultdict(<function __main__.find_cond_probs.<locals>.<lambda>.<locals>.<lambda>()>,\n",
       "                         {'buying': defaultdict(float,\n",
       "                                      {'med': 0.2939297124600639,\n",
       "                                       'high': 0.2715654952076677,\n",
       "                                       'low': 0.23322683706070288,\n",
       "                                       'vhigh': 0.2012779552715655}),\n",
       "                          'maint': defaultdict(float,\n",
       "                                      {'med': 0.28753993610223644,\n",
       "                                       'high': 0.28434504792332266,\n",
       "                                       'low': 0.25559105431309903,\n",
       "                                       'vhigh': 0.17252396166134185}),\n",
       "                          'doors': defaultdict(float,\n",
       "                                      {'4': 0.2747603833865815,\n",
       "                                       '5more': 0.268370607028754,\n",
       "                                       '3': 0.24600638977635783,\n",
       "                                       '2': 0.2108626198083067}),\n",
       "                          'persons': defaultdict(float,\n",
       "                                      {'4': 0.5207667731629393,\n",
       "                                       'more': 0.4792332268370607}),\n",
       "                          'lug_boot': defaultdict(float,\n",
       "                                      {'med': 0.36741214057507987,\n",
       "                                       'big': 0.3610223642172524,\n",
       "                                       'small': 0.2715654952076677}),\n",
       "                          'safety': defaultdict(float,\n",
       "                                      {'high': 0.5207667731629393,\n",
       "                                       'med': 0.4792332268370607}),\n",
       "                          'class': defaultdict(float, {'acc': 1.0})}),\n",
       "             'vgood': defaultdict(<function __main__.find_cond_probs.<locals>.<lambda>.<locals>.<lambda>()>,\n",
       "                         {'buying': defaultdict(float,\n",
       "                                      {'low': 0.5849056603773585,\n",
       "                                       'med': 0.41509433962264153}),\n",
       "                          'maint': defaultdict(float,\n",
       "                                      {'med': 0.39622641509433965,\n",
       "                                       'low': 0.37735849056603776,\n",
       "                                       'high': 0.22641509433962265}),\n",
       "                          'doors': defaultdict(float,\n",
       "                                      {'4': 0.3018867924528302,\n",
       "                                       '5more': 0.2830188679245283,\n",
       "                                       '3': 0.24528301886792453,\n",
       "                                       '2': 0.16981132075471697}),\n",
       "                          'persons': defaultdict(float,\n",
       "                                      {'more': 0.5660377358490566,\n",
       "                                       '4': 0.4339622641509434}),\n",
       "                          'lug_boot': defaultdict(float,\n",
       "                                      {'big': 0.6792452830188679,\n",
       "                                       'med': 0.32075471698113206}),\n",
       "                          'safety': defaultdict(float, {'high': 1.0}),\n",
       "                          'class': defaultdict(float, {'vgood': 1.0})})})"
      ]
     },
     "execution_count": 121,
     "metadata": {},
     "output_type": "execute_result"
    }
   ],
   "source": [
    "find_cond_probs(df_train,label_column='class')"
   ]
  },
  {
   "cell_type": "code",
   "execution_count": null,
   "metadata": {},
   "outputs": [],
   "source": [
    "def describe_outcome(df, conditions):\n",
    "    \n",
    "    \"\"\"\n",
    "    Counts the number of occurrences in a DataFrame that match given conditions.\n",
    "\n",
    "    Parameters:\n",
    "    - df: DataFrame to count occurrences from.\n",
    "    - conditions: Keyword arguments specifying conditions (e.g., column_name='value').\n",
    "\n",
    "    Returns:\n",
    "    - int: The count of occurrences matching the conditions.\n",
    "    \"\"\"\n",
    "    # Start with the entire DataFrame and filter down based on conditions\n",
    "    filtered_df = df\n",
    "    for column, value in conditions.items():\n",
    "        filtered_df = filtered_df[filtered_df[column] == value]\n",
    "    return filtered_df.describe()\n",
    "\n",
    "describe_outcome(df, {'class':'vgood'})\n",
    "describe_outcome(df, {'buying':'med','maint':'low','doors':'5more','persons':'more','lug_boot':'med','safety':'high'})"
   ]
  },
  {
   "cell_type": "code",
   "execution_count": null,
   "metadata": {},
   "outputs": [],
   "source": []
  }
 ],
 "metadata": {
  "kernelspec": {
   "display_name": "Python 3",
   "language": "python",
   "name": "python3"
  },
  "language_info": {
   "codemirror_mode": {
    "name": "ipython",
    "version": 3
   },
   "file_extension": ".py",
   "mimetype": "text/x-python",
   "name": "python",
   "nbconvert_exporter": "python",
   "pygments_lexer": "ipython3",
   "version": "3.12.7"
  }
 },
 "nbformat": 4,
 "nbformat_minor": 2
}
