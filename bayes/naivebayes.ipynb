{
 "cells": [
  {
   "cell_type": "markdown",
   "metadata": {},
   "source": [
    "# Library and Data Import"
   ]
  },
  {
   "cell_type": "code",
   "execution_count": 1,
   "metadata": {},
   "outputs": [
    {
     "name": "stdout",
     "output_type": "stream",
     "text": [
      "       name     role         type demographic  \\\n",
      "0    buying  Feature  Categorical        None   \n",
      "1     maint  Feature  Categorical        None   \n",
      "2     doors  Feature  Categorical        None   \n",
      "3   persons  Feature  Categorical        None   \n",
      "4  lug_boot  Feature  Categorical        None   \n",
      "5    safety  Feature  Categorical        None   \n",
      "6     class   Target  Categorical        None   \n",
      "\n",
      "                                         description units missing_values  \n",
      "0                                       buying price  None             no  \n",
      "1                           price of the maintenance  None             no  \n",
      "2                                    number of doors  None             no  \n",
      "3              capacity in terms of persons to carry  None             no  \n",
      "4                           the size of luggage boot  None             no  \n",
      "5                        estimated safety of the car  None             no  \n",
      "6  evaulation level (unacceptable, acceptable, go...  None             no  \n"
     ]
    }
   ],
   "source": [
    "from ucimlrepo import fetch_ucirepo\n",
    "import pandas as pd\n",
    "import numpy as np\n",
    "from sklearn.model_selection import train_test_split\n",
    "from collections import defaultdict\n",
    "\n",
    "# Fetch the dataset\n",
    "car_dataset = fetch_ucirepo(id=19)\n",
    "\n",
    "# Data unpacking\n",
    "X = car_dataset.data.features\n",
    "y = car_dataset.data.targets\n",
    "\n",
    "# Train test split\n",
    "X_train, X_test, y_train, y_test = train_test_split(X,y, test_size = 0.1,random_state=12)\n",
    "\n",
    "# variable information \n",
    "print(car_dataset.variables) "
   ]
  },
  {
   "cell_type": "code",
   "execution_count": 2,
   "metadata": {},
   "outputs": [],
   "source": [
    "car_dataset.metadata"
   ]
  },
  {
   "cell_type": "markdown",
   "metadata": {},
   "source": [
    "## Data Exploration"
   ]
  },
  {
   "cell_type": "code",
   "execution_count": 3,
   "metadata": {},
   "outputs": [],
   "source": [
    "print(type(X))\n",
    "print(type(y))"
   ]
  },
  {
   "cell_type": "code",
   "execution_count": 4,
   "metadata": {},
   "outputs": [],
   "source": [
    "print(f\"{X.describe()} \\n\")\n",
    "\n",
    "X.sample(10)"
   ]
  },
  {
   "cell_type": "code",
   "execution_count": 5,
   "metadata": {},
   "outputs": [],
   "source": [
    "df = pd.concat([X,y],axis=1)\n",
    "print(df.sample(10))\n",
    "\n",
    "print(\"\\n===== Number of occurences in each unique class =====\")\n",
    "print(df['class'].value_counts())"
   ]
  },
  {
   "cell_type": "code",
   "execution_count": 6,
   "metadata": {},
   "outputs": [
    {
     "name": "stdout",
     "output_type": "stream",
     "text": [
      "(1555, 7)\n",
      "class\n",
      "unacc    1087\n",
      "acc       347\n",
      "vgood      61\n",
      "good       60\n",
      "Name: count, dtype: int64\n",
      "(173, 7)\n"
     ]
    }
   ],
   "source": [
    "df_train = pd.concat([X_train,y_train],axis=1)\n",
    "print(df_train.shape)\n",
    "print(df_train['class'].value_counts())\n",
    "\n",
    "df_test = pd.concat([X_test,y_test],axis=1)\n",
    "print(df_test.shape)"
   ]
  },
  {
   "cell_type": "markdown",
   "metadata": {},
   "source": [
    "# Naive Bayes algorithm\n",
    "\n",
    "In a Naives Bayes classifier, one can learn the probability that an outcome happens given the conditions of the feature. Taken the tennis example, when given that the day is sunny (S), temperature is cool (C), humidity is high (H), and wind is strong (St), the desired output is the probability that players come to the court. Using Naive Bayes assumption, one can calculate this probability as \n",
    "\n",
    "$$p(Play\\_Tennis = Y|Sunny,Cool,High,Strong) = p(Y)\\times p(S|Y)\\times p(C|Y)\\times p(H|Y)\\times p(St|Y)$$\n",
    "\n",
    "The prior probability of Play_Tennis = Y is calculated as the number of yes occurences over the total number of samples. The conditional probabilities (such as $p(S|Y)$) is determined from the given dataset as the number of occurences where Play_Tennis is Yes and Outlook is Sunny over the total number of occurences where Play_Tennis is Yes. \n",
    "$$p(Outlook = Sunny|Play\\_Tennis=Yes) = \\frac{\\text{\\# S and Y}}{\\text{\\# Y}}$$\n",
    "\n",
    "\n",
    "In the car evaluation example, there are three outcomes - unacceptable, acceptable, good, and vgood. The categories of the features were explored in the previous step and reported here\n",
    "* buying: The buying price has 4 categories - low, med, high, and vhigh\n",
    "* maint: The maintenance price has the similar 4 categories\n",
    "* doors: The number of doors has 4 categories - 2, 3, 4, and 5more\n",
    "* person: The number of passenger capacity has 3 categories - 2, 4, and more\n",
    "* lug_boot: The size of luggage boot has 3 categories - small, med, and big\n",
    "* safety: The estimated car safety has 3 categories - low, med, and high\n",
    "\n",
    "In this example, the relative probability of an instance belong to a class is found as\n",
    "$$p(class | \\text{feature 1, feature 2, ... feature n}) = p(class)\\prod_{i=1}^n p(\\text{feature i}|class)$$\n",
    "\n",
    "The class with the highest probability is the class that the instance belongs to. To implement the Naive Bayes classifier, I will then need to be able to:\n",
    "* Find the prior probabilities of each class happening. This is simple since I just need to find the number of instances that belongs to a class and the size of the training dataset\n",
    "* Find the conditional probability of p(feature i | class). This is a bit more involved since I will need to consider each feature value given that the instance belongs to a class -"
   ]
  },
  {
   "cell_type": "markdown",
   "metadata": {},
   "source": [
    "# Functional implementation of Naive Bayes"
   ]
  },
  {
   "cell_type": "markdown",
   "metadata": {},
   "source": [
    "## Functions for determining prior and conditional probabilities "
   ]
  },
  {
   "cell_type": "code",
   "execution_count": null,
   "metadata": {},
   "outputs": [],
   "source": [
    "def find_prior_probs(df, label_column, minority_class = None):\n",
    "    '''\n",
    "    This function finds the prior probability of each class in the dataframe and report them in a dictionary\n",
    "\n",
    "    Parameters:\n",
    "    - df (pd dataframe): DataFrame from which the probability is determined\n",
    "    - label_colum (str): name of the class/label column\n",
    "    - minority_class (dict): a dictionary containing the name of the minority classes (keu) and the upweighting factor corresponding to the class as (value)\n",
    "\n",
    "    Returns:\n",
    "    - class_prior (dict): the dictionary containing class (key) and their corresponding prior probabilities (value)\n",
    "    '''\n",
    "    classes = df[label_column].unique()                 # List of the classes\n",
    "    num_instances = len(df)\n",
    "    class_prior_probs = {}\n",
    "\n",
    "    for class_value in classes:\n",
    "        class_count = df[df[label_column]==class_value].shape[0]\n",
    "        \n",
    "        # if there is a weighting factor defined for the current class in the minority_class then use the value as the factor, else 1 (no scaling)\n",
    "        upweight_factor = minority_class[class_value] if class_value in minority_class else 1      \n",
    "        class_prior_probs[str(class_value)] = class_count / num_instances * upweight_factor\n",
    "\n",
    "    return class_prior_probs\n",
    "\n",
    "def find_cond_probs(df, label_column):\n",
    "    classes = df[label_column].unique()\n",
    "\n",
    "    feature_cond_probs = defaultdict(lambda: defaultdict(lambda: defaultdict(float)))\n",
    "    '''This is a nested dictionary of the following structure\n",
    "        - Level 1 - Class Values: This level has the class values and the next dictionary level as the key-value pair\n",
    "            - Level 2 - Feature Names: This level of dictionary has the feature name and the next dictionary level as the key-value pair\n",
    "                - Level 3 - Feature Values: This level of dictionary has the feature value and the conditional probabilities P(feature == feature value | class == class value) as the key-value pair \n",
    "    '''\n",
    "\n",
    "    # Considering the conditional probability feature by feature\n",
    "    for feature in df.columns:\n",
    "        # Skip this step if the feature is the label column of the dataframe\n",
    "        if feature == label_column:\n",
    "            pass\n",
    "        \n",
    "        # Iterate over each class c of the dataframe to find the conditional probabilities of each feature P(feature = value | class)\n",
    "        for c in classes: \n",
    "            df_subset = df[df[label_column]==c]                         # Subset of the dataframe where class has the value c\n",
    "            feature_count = df_subset[feature].value_counts()           # Get a series with the number of instances of each feature value in the subset\n",
    "\n",
    "            # Iterate over all the feature values and calculate the conditional probabilities of each value \n",
    "            for value, count in feature_count.items():                  \n",
    "                feature_cond_probs[c][feature][value] = count / len(df_subset)\n",
    "\n",
    "    return feature_cond_probs"
   ]
  },
  {
   "cell_type": "markdown",
   "metadata": {},
   "source": [
    "## Determine the prior and conditional probabilities of all cases\n",
    "This section shows the result of the functions <code>find_prior_probs()</code> and <code>find_cond_probs()</code>, which determine the prior and conditional probabilities for all classes and all probability \n",
    "$$P(\\text{feature values}|\\text{class values})$$"
   ]
  },
  {
   "cell_type": "code",
   "execution_count": 12,
   "metadata": {},
   "outputs": [
    {
     "name": "stdout",
     "output_type": "stream",
     "text": [
      "The prior probability of class = unacc is 69.904%\n",
      "The prior probability of class = acc is 22.315%\n",
      "The prior probability of class = good is 3.859%\n",
      "The prior probability of class = vgood is 3.923%\n"
     ]
    }
   ],
   "source": [
    "# Define a dictionary with the weighting factors for the minority classes\n",
    "minority_class = {\n",
    "    # \"acc\": 3,\n",
    "    \"good\": 1,\n",
    "    \"vgood\": 1\n",
    "}\n",
    "\n",
    "# Find the prior probability with the weighting factor\n",
    "prior_probs = find_prior_probs(df_train,'class',minority_class=minority_class)\n",
    "\n",
    "for key, value in prior_probs.items():\n",
    "    print(f\"The prior probability of class = {key} is {value*100:.3f}%\")"
   ]
  },
  {
   "cell_type": "code",
   "execution_count": 65,
   "metadata": {},
   "outputs": [
    {
     "name": "stdout",
     "output_type": "stream",
     "text": [
      "1 \t p(buying==vhigh|unacc) = 0.301\n",
      "2 \t p(buying==high|unacc) = 0.266\n",
      "3 \t p(buying==med|unacc) = 0.221\n",
      "4 \t p(buying==low|unacc) = 0.213\n",
      "5 \t p(maint==vhigh|unacc) = 0.305\n",
      "6 \t p(maint==high|unacc) = 0.259\n",
      "7 \t p(maint==low|unacc) = 0.222\n",
      "8 \t p(maint==med|unacc) = 0.215\n",
      "9 \t p(doors==2|unacc) = 0.264\n",
      "10 \t p(doors==3|unacc) = 0.249\n",
      "11 \t p(doors==5more|unacc) = 0.244\n",
      "12 \t p(doors==4|unacc) = 0.243\n",
      "13 \t p(persons==2|unacc) = 0.472\n",
      "14 \t p(persons==more|unacc) = 0.275\n",
      "15 \t p(persons==4|unacc) = 0.253\n",
      "16 \t p(lug_boot==small|unacc) = 0.369\n",
      "17 \t p(lug_boot==med|unacc) = 0.322\n",
      "18 \t p(lug_boot==big|unacc) = 0.309\n",
      "19 \t p(safety==low|unacc) = 0.489\n",
      "20 \t p(safety==med|unacc) = 0.284\n",
      "21 \t p(safety==high|unacc) = 0.226\n",
      "22 \t p(class==unacc|unacc) = 1.000\n",
      "23 \t p(buying==med|acc) = 0.300\n",
      "24 \t p(buying==high|acc) = 0.277\n",
      "25 \t p(buying==low|acc) = 0.233\n",
      "26 \t p(buying==vhigh|acc) = 0.190\n",
      "27 \t p(maint==med|acc) = 0.300\n",
      "28 \t p(maint==high|acc) = 0.274\n",
      "29 \t p(maint==low|acc) = 0.236\n",
      "30 \t p(maint==vhigh|acc) = 0.190\n",
      "31 \t p(doors==4|acc) = 0.274\n",
      "32 \t p(doors==5more|acc) = 0.265\n",
      "33 \t p(doors==3|acc) = 0.254\n",
      "34 \t p(doors==2|acc) = 0.207\n",
      "35 \t p(persons==4|acc) = 0.513\n",
      "36 \t p(persons==more|acc) = 0.487\n",
      "37 \t p(lug_boot==big|acc) = 0.369\n",
      "38 \t p(lug_boot==med|acc) = 0.352\n",
      "39 \t p(lug_boot==small|acc) = 0.280\n",
      "40 \t p(safety==high|acc) = 0.539\n",
      "41 \t p(safety==med|acc) = 0.461\n",
      "42 \t p(class==acc|acc) = 1.000\n",
      "43 \t p(buying==low|good) = 0.667\n",
      "44 \t p(buying==med|good) = 0.333\n",
      "45 \t p(maint==low|good) = 0.667\n",
      "46 \t p(maint==med|good) = 0.333\n",
      "47 \t p(doors==5more|good) = 0.300\n",
      "48 \t p(doors==4|good) = 0.250\n",
      "49 \t p(doors==3|good) = 0.233\n",
      "50 \t p(doors==2|good) = 0.217\n",
      "51 \t p(persons==more|good) = 0.500\n",
      "52 \t p(persons==4|good) = 0.500\n",
      "53 \t p(lug_boot==big|good) = 0.367\n",
      "54 \t p(lug_boot==med|good) = 0.350\n",
      "55 \t p(lug_boot==small|good) = 0.283\n",
      "56 \t p(safety==med|good) = 0.583\n",
      "57 \t p(safety==high|good) = 0.417\n",
      "58 \t p(class==good|good) = 1.000\n",
      "59 \t p(buying==low|vgood) = 0.607\n",
      "60 \t p(buying==med|vgood) = 0.393\n",
      "61 \t p(maint==med|vgood) = 0.393\n",
      "62 \t p(maint==low|vgood) = 0.393\n",
      "63 \t p(maint==high|vgood) = 0.213\n",
      "64 \t p(doors==5more|vgood) = 0.311\n",
      "65 \t p(doors==4|vgood) = 0.279\n",
      "66 \t p(doors==3|vgood) = 0.246\n",
      "67 \t p(doors==2|vgood) = 0.164\n",
      "68 \t p(persons==more|vgood) = 0.541\n",
      "69 \t p(persons==4|vgood) = 0.459\n",
      "70 \t p(lug_boot==big|vgood) = 0.639\n",
      "71 \t p(lug_boot==med|vgood) = 0.361\n",
      "72 \t p(safety==high|vgood) = 1.000\n",
      "73 \t p(class==vgood|vgood) = 1.000\n"
     ]
    }
   ],
   "source": [
    "cond_probs = find_cond_probs(df_train,label_column='class')\n",
    "cond_probs\n",
    "\n",
    "count = 1\n",
    "for key_1, value_1 in cond_probs.items():\n",
    "    for key_2, value_2 in value_1.items():\n",
    "        for key_3, value_3 in value_2.items():\n",
    "                print(f\"{count} \\t p({key_2}=={key_3}|{key_1}) = {value_3:.3f}\")\n",
    "                count += 1"
   ]
  },
  {
   "cell_type": "code",
   "execution_count": 66,
   "metadata": {},
   "outputs": [],
   "source": [
    "def naive_bayes_classifier(prior_probs, cond_probs, instances):\n",
    "    '''\n",
    "    This function is used for classifying an instance\n",
    "\n",
    "    Parameters\n",
    "    - cond_probs: the 3-tier dictionary structure returned by the find_cond_probs() function. This structure represents the conditional probabilities P(features | classes) and has the structure of [class value][feature][feature value]\n",
    "    - instance: a dictionary representing a data point ()\n",
    "    '''\n",
    "\n",
    "    # Get the list of classes (from the cond_probs structures)\n",
    "    classes = []\n",
    "    for item in cond_probs.items():\n",
    "        classes.append(item[0])\n",
    "\n",
    "    # List of empty dictionaries to store the probabilities of the instance belong to each class\n",
    "    class_probs = [{}] * len(instances)                                        \n",
    "    \n",
    "    for index, instance in enumerate(instances):\n",
    "        # Iterate over each class to find the prior probability \n",
    "        for c in classes:\n",
    "            class_probs[index][c] = prior_probs[c]                     # p(class==c)\n",
    "\n",
    "            # Iterate over each feature in the instance to find the accumulative of conditional probabilties\n",
    "            for feature,value in instance.items():\n",
    "                class_probs[index][c] *= max(cond_probs[c][feature][value],1e-6)       # In case of zero probability, use a small number\n",
    "        \n",
    "        class_probs[index] = max(class_probs[index], key=class_probs[index].get)\n",
    "\n",
    "    return class_probs"
   ]
  },
  {
   "cell_type": "markdown",
   "metadata": {},
   "source": [
    "## Test the Naive Bayes Classifier"
   ]
  },
  {
   "cell_type": "markdown",
   "metadata": {},
   "source": [
    "Print out some sample instances in the testing dataset\n"
   ]
  },
  {
   "cell_type": "code",
   "execution_count": 49,
   "metadata": {},
   "outputs": [],
   "source": [
    "test_instances = df_test.iloc[149:161].reset_index(drop=True)\n",
    "test_instances"
   ]
  },
  {
   "cell_type": "code",
   "execution_count": 13,
   "metadata": {},
   "outputs": [
    {
     "data": {
      "text/html": [
       "<div>\n",
       "<style scoped>\n",
       "    .dataframe tbody tr th:only-of-type {\n",
       "        vertical-align: middle;\n",
       "    }\n",
       "\n",
       "    .dataframe tbody tr th {\n",
       "        vertical-align: top;\n",
       "    }\n",
       "\n",
       "    .dataframe thead th {\n",
       "        text-align: right;\n",
       "    }\n",
       "</style>\n",
       "<table border=\"1\" class=\"dataframe\">\n",
       "  <thead>\n",
       "    <tr style=\"text-align: right;\">\n",
       "      <th></th>\n",
       "      <th>class</th>\n",
       "      <th>Predicted_Class</th>\n",
       "    </tr>\n",
       "  </thead>\n",
       "  <tbody>\n",
       "    <tr>\n",
       "      <th>140</th>\n",
       "      <td>acc</td>\n",
       "      <td>acc</td>\n",
       "    </tr>\n",
       "    <tr>\n",
       "      <th>141</th>\n",
       "      <td>unacc</td>\n",
       "      <td>unacc</td>\n",
       "    </tr>\n",
       "    <tr>\n",
       "      <th>142</th>\n",
       "      <td>unacc</td>\n",
       "      <td>unacc</td>\n",
       "    </tr>\n",
       "    <tr>\n",
       "      <th>143</th>\n",
       "      <td>unacc</td>\n",
       "      <td>unacc</td>\n",
       "    </tr>\n",
       "    <tr>\n",
       "      <th>144</th>\n",
       "      <td>unacc</td>\n",
       "      <td>unacc</td>\n",
       "    </tr>\n",
       "    <tr>\n",
       "      <th>145</th>\n",
       "      <td>vgood</td>\n",
       "      <td>vgood</td>\n",
       "    </tr>\n",
       "    <tr>\n",
       "      <th>146</th>\n",
       "      <td>unacc</td>\n",
       "      <td>unacc</td>\n",
       "    </tr>\n",
       "    <tr>\n",
       "      <th>147</th>\n",
       "      <td>unacc</td>\n",
       "      <td>unacc</td>\n",
       "    </tr>\n",
       "    <tr>\n",
       "      <th>148</th>\n",
       "      <td>unacc</td>\n",
       "      <td>unacc</td>\n",
       "    </tr>\n",
       "    <tr>\n",
       "      <th>149</th>\n",
       "      <td>good</td>\n",
       "      <td>acc</td>\n",
       "    </tr>\n",
       "  </tbody>\n",
       "</table>\n",
       "</div>"
      ],
      "text/plain": [
       "     class Predicted_Class\n",
       "140    acc             acc\n",
       "141  unacc           unacc\n",
       "142  unacc           unacc\n",
       "143  unacc           unacc\n",
       "144  unacc           unacc\n",
       "145  vgood           vgood\n",
       "146  unacc           unacc\n",
       "147  unacc           unacc\n",
       "148  unacc           unacc\n",
       "149   good             acc"
      ]
     },
     "execution_count": 13,
     "metadata": {},
     "output_type": "execute_result"
    }
   ],
   "source": [
    "# Sample some random test_instances and drop the index to later concatenate with the predicted label\n",
    "test_instances = df_test.reset_index(drop=True)\n",
    "test_instance_features = test_instances.drop('class',axis =1).to_dict(orient='records')\n",
    "test_instance_labels = test_instances['class'].values\n",
    "\n",
    "\n",
    "prediction = naive_bayes_classifier(prior_probs=prior_probs,\n",
    "                                    cond_probs=cond_probs,\n",
    "                                    instances=test_instance_features)\n",
    "\n",
    "prediction_df = pd.DataFrame(prediction, columns=[\"Predicted_Class\"])\n",
    "prediction_result = pd.concat([test_instances,prediction_df],axis=1)\n",
    "\n",
    "prediction_result[['class','Predicted_Class']].iloc[140:150]\n"
   ]
  },
  {
   "cell_type": "markdown",
   "metadata": {},
   "source": [
    "## Performance evaluation and visualization"
   ]
  },
  {
   "cell_type": "markdown",
   "metadata": {},
   "source": [
    "In the following code block, I will visualize the testing performance of the Naive Bayes Classifier developed using a confusion matrix and accuracy score"
   ]
  },
  {
   "cell_type": "code",
   "execution_count": 14,
   "metadata": {},
   "outputs": [
    {
     "name": "stdout",
     "output_type": "stream",
     "text": [
      "Accuracy score: 86.71%\n"
     ]
    },
    {
     "data": {
      "image/png": "[encoded data removed]",
      "text/plain": [
       "<Figure size 1200x1000 with 2 Axes>"
      ]
     },
     "metadata": {},
     "output_type": "display_data"
    },
    {
     "name": "stdout",
     "output_type": "stream",
     "text": [
      "\n",
      "Classification Report:\n",
      "               precision    recall  f1-score   support\n",
      "\n",
      "       unacc       0.92      0.96      0.94       123\n",
      "         acc       0.68      0.73      0.70        37\n",
      "        good       1.00      0.33      0.50         9\n",
      "       vgood       1.00      0.50      0.67         4\n",
      "\n",
      "    accuracy                           0.87       173\n",
      "   macro avg       0.90      0.63      0.70       173\n",
      "weighted avg       0.87      0.87      0.86       173\n",
      "\n"
     ]
    }
   ],
   "source": [
    "import matplotlib.pyplot as plt \n",
    "from sklearn.metrics import accuracy_score, confusion_matrix, ConfusionMatrixDisplay, classification_report\n",
    "\n",
    "label_true = prediction_result['class']\n",
    "label_predicted = prediction_result['Predicted_Class']\n",
    "accuracy = accuracy_score(label_true,label_predicted)\n",
    "print(f\"Accuracy score: {accuracy*100:.2f}%\")\n",
    "\n",
    "class_labels = ['unacc', 'acc', 'good', 'vgood']\n",
    "cm = confusion_matrix(label_true,label_predicted ,labels = class_labels)\n",
    "disp = ConfusionMatrixDisplay(confusion_matrix=cm,display_labels=class_labels)\n",
    "disp.plot(cmap=plt.cm.Blues)\n",
    "fig = disp.ax_.get_figure()\n",
    "fig.set_figwidth(12)\n",
    "fig.set_figheight(10) \n",
    "plt.title(\"Confusion Matrix - Naive Bayes Classifier\")\n",
    "plt.xticks(rotation=90, ha='right')                     # Rotate x labels for better readability\n",
    "plt.yticks(rotation=0)                                  # Keep y labels horizontal\n",
    "\n",
    "plt.tight_layout()\n",
    "plt.show()\n",
    "\n",
    "report = classification_report(label_true, label_predicted, labels = class_labels, target_names= class_labels)\n",
    "print(\"\\nClassification Report:\\n\", report)"
   ]
  },
  {
   "cell_type": "markdown",
   "metadata": {},
   "source": []
  },
  {
   "cell_type": "markdown",
   "metadata": {},
   "source": [
    "# Naives Bayes Classifier - OOP approach\n",
    "\n",
    "As can be seen in the functional implementation of the Naives Bayes, one need to run the find_prior_probs() and find_cond_probs() functions first before passing them into the final naive_baye_classifier() to predict an instance. This approach can be deemed as unwieldy for downstream application. \n",
    "\n",
    "Inspired by the approach that machine learning libraries such as Tensorflow adopted, the following section shows the OOP implementation of Naive Bayes. In this approach, I will define a blueprint for a NaiveBayesClassifier() object, which stores attributes such as the classes, prior probabilities, and conditional probabilities learned from running a fit() method. Afterward, a predict() method can be run on a list of testing instances to provide prediction "
   ]
  },
  {
   "cell_type": "code",
   "execution_count": null,
   "metadata": {},
   "outputs": [],
   "source": []
  }
 ],
 "metadata": {
  "kernelspec": {
   "display_name": "Python 3",
   "language": "python",
   "name": "python3"
  },
  "language_info": {
   "codemirror_mode": {
    "name": "ipython",
    "version": 3
   },
   "file_extension": ".py",
   "mimetype": "text/x-python",
   "name": "python",
   "nbconvert_exporter": "python",
   "pygments_lexer": "ipython3",
   "version": "3.12.7"
  }
 },
 "nbformat": 4,
 "nbformat_minor": 2
}
