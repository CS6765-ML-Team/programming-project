{
 "cells": [
  {
   "cell_type": "markdown",
   "metadata": {},
   "source": [
    "# **CS 6735 ANN - Intro**\n",
    "\n",
    "This is the notebook for the development of an artificial neural network from scratch for CS 6735. The purpose of this network is to perform a binary classification between malignant and benign tumours within a dataset of medical data about breast cancer.\n",
    "\n",
    "This ANN is to be developed from scratch, and must include:\n",
    "\n",
    "* a typical ANN structure (input, some number of hidden, output)\n",
    "* back propagation as the method of updating weights\n",
    "\n",
    "This code was developed by Matthew Tidd.\n",
    "\n",
    "**DATE CREATED: 13/11/2024**\n",
    "\n",
    "**DATE MODIFIED: 13/11/2024**"
   ]
  },
  {
   "cell_type": "markdown",
   "metadata": {},
   "source": [
    "# **Importing Packages**\n",
    "\n",
    "Must first import the following packages:"
   ]
  }
 ],
 "metadata": {
  "language_info": {
   "name": "python"
  }
 },
 "nbformat": 4,
 "nbformat_minor": 2
}
