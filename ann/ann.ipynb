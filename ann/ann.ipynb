{
 "cells": [
  {
   "cell_type": "markdown",
   "metadata": {},
   "source": [
    "# **CS 6735 ANN - Intro**\n",
    "\n",
    "This is the notebook for the development of an artificial neural network from scratch for CS 6735. The purpose of this network is to perform a binary classification between malignant and benign tumours within a dataset of medical data about breast cancer.\n",
    "\n",
    "This ANN is to be developed from scratch, and must include:\n",
    "\n",
    "* a typical ANN structure (input, some number of hidden, output)\n",
    "* back propagation as the method of updating weights\n",
    "\n",
    "This code was developed by Matthew Tidd.\n",
    "\n",
    "**DATE CREATED: 13/11/2024**\n",
    "\n",
    "**DATE MODIFIED: 14/11/2024**"
   ]
  },
  {
   "cell_type": "markdown",
   "metadata": {},
   "source": [
    "# **Importing Packages**\n",
    "\n",
    "Must first import the following packages:"
   ]
  },
  {
   "cell_type": "code",
   "execution_count": 127,
   "metadata": {},
   "outputs": [],
   "source": [
    "# import packages:\n",
    "from ucimlrepo import fetch_ucirepo\n",
    "import numpy as np\n",
    "import pandas as pd\n",
    "from sklearn.model_selection import train_test_split\n",
    "from sklearn.ensemble import RandomForestClassifier\n",
    "from sklearn.preprocessing import StandardScaler\n",
    "\n",
    "import seaborn as sns\n",
    "import matplotlib.pyplot as plt\n"
   ]
  },
  {
   "cell_type": "markdown",
   "metadata": {},
   "source": [
    "# **Load the Dataset**\n",
    "\n",
    "Need to load the dataset. This dataset can be found on the UC Irvine Machine Learning Repository, and was donated from the University of Wisconsin-Madison in 1995. It is considered a multivariate dataset, and consists of several features pertaining to breast mass that were computed from digitized images of fine needle aspirate. These features describe the characteristics of the cell nuclei present in the image. \n",
    "\n",
    "There are 10 real-valued features that are of importance for this dataset:\n",
    "\n",
    "* radius\n",
    "* texture\n",
    "* perimeter\n",
    "* area\n",
    "* smoothness\n",
    "* compactness\n",
    "* concavity\n",
    "* concave points\n",
    "* symmetry\n",
    "* fractal dimension\n",
    "\n",
    "For each of these real-valued features there are 3 versions, representing the mean, standard deviation, and worst case value. \n",
    "\n",
    "In total there are 30 features and 569 instances. The target variable in this dataset is a diagnosis, either malignant or benign. This dataset can be found at:\n",
    "\n",
    "https://archive.ics.uci.edu/dataset/17/breast+cancer+wisconsin+diagnostic"
   ]
  },
  {
   "cell_type": "code",
   "execution_count": 128,
   "metadata": {},
   "outputs": [],
   "source": [
    "# because the dataset is from the UCI ML repo, we can use their functions to fetch from their website:\n",
    "\n",
    "breast_data = fetch_ucirepo(id = 17)\n",
    "\n",
    "# can now access the data:\n",
    "\n",
    "breast_x = breast_data.data.features\n",
    "breast_y = breast_data.data.targets"
   ]
  },
  {
   "cell_type": "markdown",
   "metadata": {},
   "source": [
    "# **Examine Dataset Properties**:\n",
    "\n",
    "Going to examine the properties of the dataset:"
   ]
  },
  {
   "cell_type": "code",
   "execution_count": 129,
   "metadata": {},
   "outputs": [
    {
     "name": "stdout",
     "output_type": "stream",
     "text": [
      "there are 569 examples in the dataset\n",
      "there are 30 distinct features to train on\n",
      "the available diagnoses are: ['M' 'B']\n",
      "the available features are: \n",
      "\n",
      "radius1\n",
      "texture1\n",
      "perimeter1\n",
      "area1\n",
      "smoothness1\n",
      "compactness1\n",
      "concavity1\n",
      "concave_points1\n",
      "symmetry1\n",
      "fractal_dimension1\n",
      "radius2\n",
      "texture2\n",
      "perimeter2\n",
      "area2\n",
      "smoothness2\n",
      "compactness2\n",
      "concavity2\n",
      "concave_points2\n",
      "symmetry2\n",
      "fractal_dimension2\n",
      "radius3\n",
      "texture3\n",
      "perimeter3\n",
      "area3\n",
      "smoothness3\n",
      "compactness3\n",
      "concavity3\n",
      "concave_points3\n",
      "symmetry3\n",
      "fractal_dimension3\n"
     ]
    }
   ],
   "source": [
    "# get the total number of instances:\n",
    "print(f\"there are {breast_x.shape[0]} examples in the dataset\")\n",
    "\n",
    "# get number of features:\n",
    "print(f\"there are {breast_x.shape[1]} distinct features to train on\")\n",
    "\n",
    "# get the number of unique target variables:\n",
    "print(f\"the available diagnoses are: {breast_y['Diagnosis'].unique()}\")\n",
    "\n",
    "# get the names of the features:\n",
    "print(f\"the available features are: \\n\")\n",
    "for col in breast_x.columns:\n",
    "    print(col)"
   ]
  },
  {
   "cell_type": "markdown",
   "metadata": {},
   "source": [
    "# **Dataset Pre-Processing**:\n",
    "\n",
    "Going to pre-process the dataset by performing the following:\n",
    "\n",
    "* remove the null values\n",
    "* scale the feature values to within a common range\n",
    "* encode the categorical labels into binary 0 or 1\n",
    "* split into training, validation, and testing data\n",
    "\n",
    "This is done to help realize the best model performance given the dataset."
   ]
  },
  {
   "cell_type": "code",
   "execution_count": 130,
   "metadata": {},
   "outputs": [
    {
     "name": "stdout",
     "output_type": "stream",
     "text": [
      "no null values detected in features\n",
      "no null values detected in labels\n"
     ]
    }
   ],
   "source": [
    "# check for null values in the features:\n",
    "\n",
    "null = breast_x.isnull().values.any()\n",
    "if null == True:\n",
    "    breast_x = breast_x.dropna()\n",
    "    print(f'null values removed from features')\n",
    "else:\n",
    "    print(f'no null values detected in features')\n",
    "\n",
    "# check for null values in the labels:\n",
    "\n",
    "null = breast_y.isnull().values.any()\n",
    "if null == True:\n",
    "    breast_y = breast_y.dropna()\n",
    "    print(f'null values removed from labels')\n",
    "else:\n",
    "    print(f'no null values detected in labels')\n"
   ]
  },
  {
   "cell_type": "markdown",
   "metadata": {},
   "source": [
    "Standardize values to improve ANN performance:"
   ]
  },
  {
   "cell_type": "code",
   "execution_count": 131,
   "metadata": {},
   "outputs": [
    {
     "name": "stdout",
     "output_type": "stream",
     "text": [
      "features scaled\n"
     ]
    }
   ],
   "source": [
    "# standardize values:\n",
    "\n",
    "scaler = StandardScaler()\n",
    "x_scaled = pd.DataFrame(scaler.fit_transform(breast_x))\n",
    "print('features scaled')"
   ]
  },
  {
   "cell_type": "markdown",
   "metadata": {},
   "source": [
    "Need to encode the categorical variables into binary values to be used in the ANN:"
   ]
  },
  {
   "cell_type": "code",
   "execution_count": 132,
   "metadata": {},
   "outputs": [
    {
     "name": "stdout",
     "output_type": "stream",
     "text": [
      "labels encoded: M = 1, B = 0\n"
     ]
    },
    {
     "data": {
      "text/html": [
       "<div>\n",
       "<style scoped>\n",
       "    .dataframe tbody tr th:only-of-type {\n",
       "        vertical-align: middle;\n",
       "    }\n",
       "\n",
       "    .dataframe tbody tr th {\n",
       "        vertical-align: top;\n",
       "    }\n",
       "\n",
       "    .dataframe thead th {\n",
       "        text-align: right;\n",
       "    }\n",
       "</style>\n",
       "<table border=\"1\" class=\"dataframe\">\n",
       "  <thead>\n",
       "    <tr style=\"text-align: right;\">\n",
       "      <th></th>\n",
       "      <th>Diagnosis</th>\n",
       "    </tr>\n",
       "  </thead>\n",
       "  <tbody>\n",
       "    <tr>\n",
       "      <th>0</th>\n",
       "      <td>1</td>\n",
       "    </tr>\n",
       "    <tr>\n",
       "      <th>1</th>\n",
       "      <td>1</td>\n",
       "    </tr>\n",
       "    <tr>\n",
       "      <th>2</th>\n",
       "      <td>1</td>\n",
       "    </tr>\n",
       "    <tr>\n",
       "      <th>3</th>\n",
       "      <td>1</td>\n",
       "    </tr>\n",
       "    <tr>\n",
       "      <th>4</th>\n",
       "      <td>1</td>\n",
       "    </tr>\n",
       "  </tbody>\n",
       "</table>\n",
       "</div>"
      ],
      "text/plain": [
       "   Diagnosis\n",
       "0          1\n",
       "1          1\n",
       "2          1\n",
       "3          1\n",
       "4          1"
      ]
     },
     "execution_count": 132,
     "metadata": {},
     "output_type": "execute_result"
    }
   ],
   "source": [
    "# encode benign to 0, and malignant to 1\n",
    "\n",
    "breast_y =  pd.DataFrame(breast_y['Diagnosis'].map(lambda row: 1 if row == 'M' else 0))\n",
    "print('labels encoded: M = 1, B = 0')\n",
    "breast_y.head()"
   ]
  },
  {
   "cell_type": "markdown",
   "metadata": {},
   "source": [
    "Finally need to create train/validation/test split:"
   ]
  },
  {
   "cell_type": "code",
   "execution_count": 274,
   "metadata": {},
   "outputs": [
    {
     "name": "stdout",
     "output_type": "stream",
     "text": [
      "training data has form: (455, 30), labels are: (455, 1)\n",
      "validation data has form: (57, 30), labels are: (57, 1)\n",
      "test data has form: (57, 30), labels are: (57, 1)\n"
     ]
    }
   ],
   "source": [
    "# partition data -> want 80% train, 10% validation, 10% testing\n",
    "\n",
    "x_train, dummy_x, y_train, dummy_y = train_test_split(x_scaled, breast_y, train_size = 0.8, test_size = 0.2)\n",
    "x_val, x_test, y_val, y_test = train_test_split(dummy_x, dummy_y, train_size = 0.5, test_size = 0.5)\n",
    "\n",
    "print(f\"training data has form: {x_train.shape}, labels are: {y_train.shape}\")\n",
    "print(f\"validation data has form: {x_val.shape}, labels are: {y_val.shape}\")\n",
    "print(f\"test data has form: {x_test.shape}, labels are: {y_test.shape}\")"
   ]
  },
  {
   "cell_type": "markdown",
   "metadata": {},
   "source": [
    "# **ANN Function Definition**\n",
    "\n",
    "Going to be using a class-based approach to defining the ANN, which will allow for instantiating, training, and querying of the network. Need to define the class itself as well as functions that will be used often, like the \n",
    "sigmoid function, relu, and their derivatives:\n"
   ]
  },
  {
   "cell_type": "code",
   "execution_count": null,
   "metadata": {},
   "outputs": [],
   "source": [
    "# define useful functions:\n",
    "\n",
    "# logistic sigmoid function\n",
    "def sigmoid(x):\n",
    "    return 1 / (1 + np.exp(-x))\n",
    "\n",
    "# derivative of the sigmoid function\n",
    "def sigmoid_derivative(x):\n",
    "    return sigmoid(x) * (1 - sigmoid(x))\n",
    "\n",
    "# rectified linear unit (basically a straight line)\n",
    "def relu(x):\n",
    "    return np.maximum(0, x)\n",
    "\n",
    "# derivative function of relu (accepts np.arrays)\n",
    "def relu_derivative(x):\n",
    "    return (x > 0).astype(float)\n",
    "\n",
    "# binary cross entropy -> for binary classification between 0 & 1\n",
    "def binary_crossentropy_loss(target, output):\n",
    "    output = np.clip(output, 1e-10, 1 - 1e-10)                              # prevent log 0\n",
    "    loss = - (target * np.log(output) + (1 - target) * np.log(1 - output))  # BCE formula\n",
    "    return loss"
   ]
  },
  {
   "cell_type": "code",
   "execution_count": null,
   "metadata": {},
   "outputs": [],
   "source": [
    "# create neural network class:\n",
    "\n",
    "class NeuralNetwork:\n",
    "    # constructor:\n",
    "    def __init__(self, input_size, hidden_size, output_size):\n",
    "        # assign function inputs as instance variables:\n",
    "        self.input_size = input_size\n",
    "        self.hidden_size = hidden_size\n",
    "        self.output_size = output_size\n",
    "\n",
    "        # need to randomly initialize weights and biases for the layers:\n",
    "\n",
    "        # from input to hidden:\n",
    "        self.w1 = np.random.randn(hidden_size, input_size)\n",
    "        self.b1 = np.random.randn(hidden_size, 1)\n",
    "\n",
    "        # from hidden to output:\n",
    "        self.w2 = np.random.randn(output_size, hidden_size)\n",
    "        self.b2 = np.random.randn(output_size, 1)\n",
    "\n",
    "    # feedforward function:\n",
    "    def forward_pass(self, x):\n",
    "        # make sure x is a column vector:\n",
    "        x = x.reshape((self.input_size, 1))\n",
    "\n",
    "        # from input to hidden:\n",
    "        self.net1 = np.dot(self.w1, x) + self.b1    # calculate net1\n",
    "        self.h1 = relu(self.net1)                   # calculate output of hidden layer\n",
    "\n",
    "        # from hidden to output:\n",
    "        self.net2 = np.dot(self.w2, self.h1) + self.b2  # calculate net2\n",
    "        self.o = sigmoid(self.net2)                     # calculate output of network\n",
    "\n",
    "        return self.o       # return value to user\n",
    "    \n",
    "    # backpropagation:\n",
    "    def backward_pass(self, x, y, learning_rate):\n",
    "        # make sure x is a column vector:\n",
    "        x = x.reshape((self.input_size, 1))\n",
    "\n",
    "        # get o - t:\n",
    "        o_error = self.o - y\n",
    "\n",
    "        # get gradients for weights and biases at the output layer:\n",
    "        de_dw2 = np.dot((o_error * sigmoid_derivative(self.net2)), self.h1.T)   # this is the partial derivative of E wrt. W2\n",
    "        de_db2 = o_error * sigmoid_derivative(self.net2)                        # this is the partial derivative of E wrt. B2\n",
    "\n",
    "        # get gradients for weights and biases at the input layer:\n",
    "\n",
    "        # this is an intermediary value because I was getting lost in the matrix dimensions\n",
    "        delta_1 = np.dot(self.w2.T, o_error * sigmoid_derivative(self.net2)) * relu_derivative(self.net1)  \n",
    "\n",
    "        de_dw1 = np.dot(delta_1, x.T)   # this is the partial derivative of E wrt. W1\n",
    "        de_db1 = delta_1                # this is the partial derivative of E wrt. B1\n",
    "\n",
    "        # update weights and biases:\n",
    "\n",
    "        self.w1 -= learning_rate  * de_dw1  # update w1\n",
    "        self.b1 -= learning_rate  * de_db1  # update b1\n",
    "        self.w2 -= learning_rate  * de_dw2  # update w2\n",
    "        self.b2 -= learning_rate  * de_db2  # update b2\n",
    "\n",
    "    # training:\n",
    "    def train(self, x_train, y_train, x_val, y_val, epochs, learning_rate):\n",
    "        # used in the plotting\n",
    "        self.epochs = epochs\n",
    "        \n",
    "        # initialize lists for appending train and val history to:\n",
    "        train_loss_history = []\n",
    "        val_loss_history = []\n",
    "\n",
    "        # for every epoch:\n",
    "        for epoch in range(epochs):\n",
    "            total_train_loss = 0    # reset train loss for new epoch\n",
    "            total_val_loss = 0      # reset val loss for new epoch\n",
    "\n",
    "            # training loop:\n",
    "            for i in range(x_train.shape[0]):\n",
    "                # extract example:\n",
    "                x = x_train.iloc[i].values\n",
    "\n",
    "                # get target for that example:\n",
    "                target = y_train.iloc[i].values\n",
    "\n",
    "                # compute forward pass:\n",
    "                output = self.forward_pass(x)\n",
    "\n",
    "                # backpropagate\n",
    "                self.backward_pass(x, target, learning_rate)\n",
    "\n",
    "                # get loss:\n",
    "                loss = binary_crossentropy_loss(target, output)\n",
    "                total_train_loss += loss    # add to total loss  \n",
    "\n",
    "            # get average BCE for train:\n",
    "            average_train_loss_per_epoch = total_train_loss / x_train.shape[0]\n",
    "            train_loss_history.append(average_train_loss_per_epoch)\n",
    "\n",
    "            # validation loop:\n",
    "            for i in range(x_val.shape[0]):\n",
    "                # extract example:\n",
    "                x = x_val.iloc[i].values\n",
    "\n",
    "                # get target for that example:\n",
    "                target = y_val.iloc[i].values\n",
    "\n",
    "                # compute forward pass:\n",
    "                output = self.forward_pass(x)\n",
    "\n",
    "                # get loss:\n",
    "                loss = binary_crossentropy_loss(target, output)\n",
    "                total_val_loss += loss    # add to total loss \n",
    "            \n",
    "            # get average BCE for val:\n",
    "            average_val_loss_per_epoch = total_val_loss / x_val.shape[0]\n",
    "            val_loss_history.append(average_val_loss_per_epoch)\n",
    "            \n",
    "            print(f\"epoch: {epoch + 1}/{epochs} | train loss was: {round(float(average_train_loss_per_epoch), 6)} | val loss was: {round(float(average_val_loss_per_epoch), 6)}\")  \n",
    "\n",
    "        return np.array(train_loss_history).reshape(-1, 1), np.array(val_loss_history).reshape(-1, 1)\n",
    "\n",
    "    # testing:\n",
    "    def test(self, x_test, y_test):\n",
    "        # need to get the output for each value of x_test, compare against y_test:\n",
    "        correct_predictions = 0\n",
    "\n",
    "        for i in range(x_test.shape[0]):\n",
    "            # extract example:\n",
    "            x = x_test.iloc[i].values\n",
    "\n",
    "            # extract target:\n",
    "            target = y_test.iloc[i].values\n",
    "\n",
    "            # compute forward pass:\n",
    "            output = self.forward_pass(x)\n",
    "\n",
    "            # get class value from sigmoid value:\n",
    "            prediction = 1 if output >= 0.5 else 0\n",
    "\n",
    "            print(f\"predicted: {prediction} | true: {target}\")\n",
    "\n",
    "            # if correct, add to successes\n",
    "            if prediction == target:\n",
    "                correct_predictions += 1\n",
    "\n",
    "        # return accuracy (hopefully good lol)\n",
    "        print(f\"accuracy of model is: {round((correct_predictions / x_test.shape[0]) * 100, 3)}\")\n"
   ]
  },
  {
   "cell_type": "code",
   "execution_count": 432,
   "metadata": {},
   "outputs": [],
   "source": [
    "nn = NeuralNetwork(input_size = 30, hidden_size = 30, output_size = 1)"
   ]
  },
  {
   "cell_type": "code",
   "execution_count": 433,
   "metadata": {},
   "outputs": [
    {
     "name": "stderr",
     "output_type": "stream",
     "text": [
      "C:\\Users\\mtidd2\\AppData\\Local\\Temp\\ipykernel_388\\1325764468.py:129: DeprecationWarning: Conversion of an array with ndim > 0 to a scalar is deprecated, and will error in future. Ensure you extract a single element from your array before performing this operation. (Deprecated NumPy 1.25.)\n",
      "  print(f\"epoch: {epoch + 1}/{epochs} | train loss was: {round(float(average_train_loss_per_epoch), 6)} | val loss was: {round(float(average_val_loss_per_epoch), 6)}\")\n"
     ]
    },
    {
     "name": "stdout",
     "output_type": "stream",
     "text": [
      "epoch: 1/100 | train loss was: 3.385258 | val loss was: 2.543565\n",
      "epoch: 2/100 | train loss was: 2.487573 | val loss was: 1.798186\n",
      "epoch: 3/100 | train loss was: 2.125056 | val loss was: 1.364826\n",
      "epoch: 4/100 | train loss was: 1.897628 | val loss was: 1.190456\n",
      "epoch: 5/100 | train loss was: 1.737401 | val loss was: 1.090156\n",
      "epoch: 6/100 | train loss was: 1.561304 | val loss was: 0.86606\n",
      "epoch: 7/100 | train loss was: 1.433359 | val loss was: 0.713033\n",
      "epoch: 8/100 | train loss was: 1.338095 | val loss was: 0.555437\n",
      "epoch: 9/100 | train loss was: 1.252457 | val loss was: 0.495951\n",
      "epoch: 10/100 | train loss was: 1.211216 | val loss was: 0.446656\n",
      "epoch: 11/100 | train loss was: 1.181451 | val loss was: 0.404837\n",
      "epoch: 12/100 | train loss was: 1.150787 | val loss was: 0.358092\n",
      "epoch: 13/100 | train loss was: 1.106448 | val loss was: 0.319941\n",
      "epoch: 14/100 | train loss was: 1.039816 | val loss was: 0.324582\n",
      "epoch: 15/100 | train loss was: 0.958598 | val loss was: 0.324809\n",
      "epoch: 16/100 | train loss was: 0.908221 | val loss was: 0.313278\n",
      "epoch: 17/100 | train loss was: 0.890088 | val loss was: 0.296712\n",
      "epoch: 18/100 | train loss was: 0.880412 | val loss was: 0.281691\n",
      "epoch: 19/100 | train loss was: 0.870779 | val loss was: 0.268677\n",
      "epoch: 20/100 | train loss was: 0.859814 | val loss was: 0.2578\n",
      "epoch: 21/100 | train loss was: 0.846209 | val loss was: 0.249661\n",
      "epoch: 22/100 | train loss was: 0.829726 | val loss was: 0.245553\n",
      "epoch: 23/100 | train loss was: 0.812044 | val loss was: 0.242998\n",
      "epoch: 24/100 | train loss was: 0.791967 | val loss was: 0.233814\n",
      "epoch: 25/100 | train loss was: 0.774359 | val loss was: 0.21884\n",
      "epoch: 26/100 | train loss was: 0.756202 | val loss was: 0.206858\n",
      "epoch: 27/100 | train loss was: 0.734756 | val loss was: 0.186915\n",
      "epoch: 28/100 | train loss was: 0.720611 | val loss was: 0.167291\n",
      "epoch: 29/100 | train loss was: 0.707279 | val loss was: 0.14912\n",
      "epoch: 30/100 | train loss was: 0.694094 | val loss was: 0.132643\n",
      "epoch: 31/100 | train loss was: 0.680367 | val loss was: 0.117973\n",
      "epoch: 32/100 | train loss was: 0.667017 | val loss was: 0.104967\n",
      "epoch: 33/100 | train loss was: 0.654233 | val loss was: 0.093649\n",
      "epoch: 34/100 | train loss was: 0.642045 | val loss was: 0.083841\n",
      "epoch: 35/100 | train loss was: 0.6306 | val loss was: 0.075532\n",
      "epoch: 36/100 | train loss was: 0.619889 | val loss was: 0.068517\n",
      "epoch: 37/100 | train loss was: 0.609717 | val loss was: 0.062507\n",
      "epoch: 38/100 | train loss was: 0.599882 | val loss was: 0.057368\n",
      "epoch: 39/100 | train loss was: 0.5901 | val loss was: 0.052614\n",
      "epoch: 40/100 | train loss was: 0.579907 | val loss was: 0.048112\n",
      "epoch: 41/100 | train loss was: 0.568964 | val loss was: 0.043813\n",
      "epoch: 42/100 | train loss was: 0.556915 | val loss was: 0.039639\n",
      "epoch: 43/100 | train loss was: 0.543541 | val loss was: 0.035879\n",
      "epoch: 44/100 | train loss was: 0.52771 | val loss was: 0.032682\n",
      "epoch: 45/100 | train loss was: 0.509327 | val loss was: 0.030274\n",
      "epoch: 46/100 | train loss was: 0.490107 | val loss was: 0.029014\n",
      "epoch: 47/100 | train loss was: 0.47053 | val loss was: 0.029684\n",
      "epoch: 48/100 | train loss was: 0.453786 | val loss was: 0.027763\n",
      "epoch: 49/100 | train loss was: 0.443659 | val loss was: 0.026006\n",
      "epoch: 50/100 | train loss was: 0.434995 | val loss was: 0.024898\n",
      "epoch: 51/100 | train loss was: 0.42799 | val loss was: 0.024288\n",
      "epoch: 52/100 | train loss was: 0.422273 | val loss was: 0.023962\n",
      "epoch: 53/100 | train loss was: 0.417455 | val loss was: 0.023762\n",
      "epoch: 54/100 | train loss was: 0.413269 | val loss was: 0.023603\n",
      "epoch: 55/100 | train loss was: 0.409445 | val loss was: 0.023457\n",
      "epoch: 56/100 | train loss was: 0.405897 | val loss was: 0.023295\n",
      "epoch: 57/100 | train loss was: 0.402535 | val loss was: 0.023107\n",
      "epoch: 58/100 | train loss was: 0.399259 | val loss was: 0.022883\n",
      "epoch: 59/100 | train loss was: 0.395974 | val loss was: 0.022616\n",
      "epoch: 60/100 | train loss was: 0.392583 | val loss was: 0.022289\n",
      "epoch: 61/100 | train loss was: 0.388996 | val loss was: 0.021885\n",
      "epoch: 62/100 | train loss was: 0.385133 | val loss was: 0.021365\n",
      "epoch: 63/100 | train loss was: 0.380957 | val loss was: 0.020668\n",
      "epoch: 64/100 | train loss was: 0.376563 | val loss was: 0.019738\n",
      "epoch: 65/100 | train loss was: 0.372006 | val loss was: 0.018308\n",
      "epoch: 66/100 | train loss was: 0.367462 | val loss was: 0.016738\n",
      "epoch: 67/100 | train loss was: 0.363011 | val loss was: 0.015256\n",
      "epoch: 68/100 | train loss was: 0.35867 | val loss was: 0.013908\n",
      "epoch: 69/100 | train loss was: 0.354339 | val loss was: 0.01225\n",
      "epoch: 70/100 | train loss was: 0.350049 | val loss was: 0.010877\n",
      "epoch: 71/100 | train loss was: 0.34589 | val loss was: 0.009719\n",
      "epoch: 72/100 | train loss was: 0.34188 | val loss was: 0.008555\n",
      "epoch: 73/100 | train loss was: 0.338142 | val loss was: 0.007662\n",
      "epoch: 74/100 | train loss was: 0.334737 | val loss was: 0.006829\n",
      "epoch: 75/100 | train loss was: 0.331692 | val loss was: 0.006207\n",
      "epoch: 76/100 | train loss was: 0.328989 | val loss was: 0.00569\n",
      "epoch: 77/100 | train loss was: 0.326585 | val loss was: 0.00526\n",
      "epoch: 78/100 | train loss was: 0.324432 | val loss was: 0.004899\n",
      "epoch: 79/100 | train loss was: 0.32248 | val loss was: 0.004595\n",
      "epoch: 80/100 | train loss was: 0.320689 | val loss was: 0.004333\n",
      "epoch: 81/100 | train loss was: 0.319023 | val loss was: 0.004106\n",
      "epoch: 82/100 | train loss was: 0.317398 | val loss was: 0.003842\n",
      "epoch: 83/100 | train loss was: 0.315886 | val loss was: 0.003671\n",
      "epoch: 84/100 | train loss was: 0.314437 | val loss was: 0.003514\n",
      "epoch: 85/100 | train loss was: 0.313028 | val loss was: 0.003369\n",
      "epoch: 86/100 | train loss was: 0.311648 | val loss was: 0.003234\n",
      "epoch: 87/100 | train loss was: 0.310242 | val loss was: 0.003059\n",
      "epoch: 88/100 | train loss was: 0.308888 | val loss was: 0.002945\n",
      "epoch: 89/100 | train loss was: 0.307564 | val loss was: 0.002836\n",
      "epoch: 90/100 | train loss was: 0.306222 | val loss was: 0.002694\n",
      "epoch: 91/100 | train loss was: 0.304939 | val loss was: 0.002601\n",
      "epoch: 92/100 | train loss was: 0.303705 | val loss was: 0.002513\n",
      "epoch: 93/100 | train loss was: 0.30248 | val loss was: 0.002397\n",
      "epoch: 94/100 | train loss was: 0.301338 | val loss was: 0.002323\n",
      "epoch: 95/100 | train loss was: 0.300271 | val loss was: 0.002255\n",
      "epoch: 96/100 | train loss was: 0.299237 | val loss was: 0.00216\n",
      "epoch: 97/100 | train loss was: 0.298283 | val loss was: 0.0021\n",
      "epoch: 98/100 | train loss was: 0.297369 | val loss was: 0.002017\n",
      "epoch: 99/100 | train loss was: 0.296537 | val loss was: 0.001963\n",
      "epoch: 100/100 | train loss was: 0.295769 | val loss was: 0.001911\n"
     ]
    }
   ],
   "source": [
    "train_loss_history, val_loss_history = nn.train(x_train, y_train, x_val, y_val, epochs = 100, learning_rate = 0.005)"
   ]
  },
  {
   "cell_type": "markdown",
   "metadata": {},
   "source": [
    "Plot the mean training loss per sample as a function of the epochs:"
   ]
  },
  {
   "cell_type": "code",
   "execution_count": 434,
   "metadata": {},
   "outputs": [
    {
     "data": {
      "image/png": "[encoded data removed]",
      "text/plain": [
       "<Figure size 1200x600 with 1 Axes>"
      ]
     },
     "metadata": {},
     "output_type": "display_data"
    }
   ],
   "source": [
    "# plotting stuff:\n",
    "\n",
    "epochs = np.arange(1, nn.epochs + 1, 1).reshape(-1,1)\n",
    "\n",
    "fig = plt.figure(figsize = (12,6))\n",
    "\n",
    "# plot train\n",
    "plt.plot(epochs, train_loss_history, label = 'training')\n",
    "plt.plot(epochs, val_loss_history, label = 'validation')\n",
    "plt.title('loss vs. epochs')\n",
    "plt.ylabel('average binary crossentropy loss per sample')\n",
    "plt.xlabel('epochs')\n",
    "plt.legend()\n",
    "plt.xlim([1, nn.epochs])\n",
    "plt.grid('both')\n",
    "plt.show()"
   ]
  },
  {
   "cell_type": "markdown",
   "metadata": {},
   "source": [
    "# **Testing the Model**:\n",
    "\n",
    "Now that the model has been sufficiently trained, we can test its accuracy on the test set of the data that was partitioned previously"
   ]
  },
  {
   "cell_type": "code",
   "execution_count": 435,
   "metadata": {},
   "outputs": [
    {
     "name": "stdout",
     "output_type": "stream",
     "text": [
      "predicted: 0 | true: [0]\n",
      "predicted: 0 | true: [0]\n",
      "predicted: 0 | true: [0]\n",
      "predicted: 0 | true: [0]\n",
      "predicted: 0 | true: [0]\n",
      "predicted: 0 | true: [0]\n",
      "predicted: 0 | true: [0]\n",
      "predicted: 0 | true: [0]\n",
      "predicted: 0 | true: [0]\n",
      "predicted: 0 | true: [0]\n",
      "predicted: 0 | true: [1]\n",
      "predicted: 0 | true: [0]\n",
      "predicted: 0 | true: [0]\n",
      "predicted: 0 | true: [0]\n",
      "predicted: 0 | true: [0]\n",
      "predicted: 0 | true: [0]\n",
      "predicted: 1 | true: [1]\n",
      "predicted: 0 | true: [0]\n",
      "predicted: 0 | true: [0]\n",
      "predicted: 1 | true: [1]\n",
      "predicted: 1 | true: [1]\n",
      "predicted: 1 | true: [1]\n",
      "predicted: 1 | true: [1]\n",
      "predicted: 1 | true: [1]\n",
      "predicted: 0 | true: [0]\n",
      "predicted: 0 | true: [0]\n",
      "predicted: 0 | true: [0]\n",
      "predicted: 1 | true: [1]\n",
      "predicted: 1 | true: [1]\n",
      "predicted: 1 | true: [1]\n",
      "predicted: 0 | true: [0]\n",
      "predicted: 0 | true: [0]\n",
      "predicted: 1 | true: [1]\n",
      "predicted: 0 | true: [0]\n",
      "predicted: 0 | true: [0]\n",
      "predicted: 0 | true: [0]\n",
      "predicted: 0 | true: [0]\n",
      "predicted: 1 | true: [1]\n",
      "predicted: 1 | true: [1]\n",
      "predicted: 1 | true: [1]\n",
      "predicted: 0 | true: [0]\n",
      "predicted: 1 | true: [1]\n",
      "predicted: 1 | true: [1]\n",
      "predicted: 0 | true: [0]\n",
      "predicted: 1 | true: [1]\n",
      "predicted: 1 | true: [1]\n",
      "predicted: 0 | true: [0]\n",
      "predicted: 0 | true: [0]\n",
      "predicted: 0 | true: [0]\n",
      "predicted: 1 | true: [1]\n",
      "predicted: 0 | true: [0]\n",
      "predicted: 0 | true: [0]\n",
      "predicted: 0 | true: [0]\n",
      "predicted: 1 | true: [1]\n",
      "predicted: 1 | true: [1]\n",
      "predicted: 0 | true: [0]\n",
      "predicted: 0 | true: [0]\n",
      "accuracy of model is: 98.246\n"
     ]
    }
   ],
   "source": [
    "# take the model that is already trained and use it to predict the class of tumour based on data:\n",
    "\n",
    "nn.test(x_test, y_test)"
   ]
  }
 ],
 "metadata": {
  "kernelspec": {
   "display_name": "Python 3",
   "language": "python",
   "name": "python3"
  },
  "language_info": {
   "codemirror_mode": {
    "name": "ipython",
    "version": 3
   },
   "file_extension": ".py",
   "mimetype": "text/x-python",
   "name": "python",
   "nbconvert_exporter": "python",
   "pygments_lexer": "ipython3",
   "version": "3.12.5"
  }
 },
 "nbformat": 4,
 "nbformat_minor": 2
}
