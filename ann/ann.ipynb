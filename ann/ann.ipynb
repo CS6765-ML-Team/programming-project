{
 "cells": [
  {
   "cell_type": "markdown",
   "metadata": {},
   "source": [
    "# **CS 6735 ANN - Intro**\n",
    "\n",
    "This is the notebook for the development of an artificial neural network from scratch for CS 6735. The purpose of this network is to perform a binary classification between malignant and benign tumours within a dataset of medical data about breast cancer.\n",
    "\n",
    "This ANN is to be developed from scratch, and must include:\n",
    "\n",
    "* a typical ANN structure (input, some number of hidden, output)\n",
    "* back propagation as the method of updating weights\n",
    "\n",
    "This code was developed by Matthew Tidd.\n",
    "\n",
    "**DATE CREATED: 13/11/2024**\n",
    "\n",
    "**DATE MODIFIED: 14/11/2024**"
   ]
  },
  {
   "cell_type": "markdown",
   "metadata": {},
   "source": [
    "# **Importing Packages**\n",
    "\n",
    "Must first import the following packages:"
   ]
  },
  {
   "cell_type": "code",
   "execution_count": 127,
   "metadata": {},
   "outputs": [],
   "source": [
    "# import packages:\n",
    "from ucimlrepo import fetch_ucirepo\n",
    "import numpy as np\n",
    "import pandas as pd\n",
    "from sklearn.model_selection import train_test_split\n",
    "from sklearn.ensemble import RandomForestClassifier\n",
    "from sklearn.preprocessing import StandardScaler\n",
    "\n",
    "import seaborn as sns\n",
    "import matplotlib.pyplot as plt\n"
   ]
  },
  {
   "cell_type": "markdown",
   "metadata": {},
   "source": [
    "# **Load the Dataset**\n",
    "\n",
    "Need to load the dataset. This dataset can be found on the UC Irvine Machine Learning Repository, and was donated from the University of Wisconsin-Madison in 1995. It is considered a multivariate dataset, and consists of several features pertaining to breast mass that were computed from digitized images of fine needle aspirate. These features describe the characteristics of the cell nuclei present in the image. \n",
    "\n",
    "There are 10 real-valued features that are of importance for this dataset:\n",
    "\n",
    "* radius\n",
    "* texture\n",
    "* perimeter\n",
    "* area\n",
    "* smoothness\n",
    "* compactness\n",
    "* concavity\n",
    "* concave points\n",
    "* symmetry\n",
    "* fractal dimension\n",
    "\n",
    "For each of these real-valued features there are 3 versions, representing the mean, standard deviation, and worst case value. \n",
    "\n",
    "In total there are 30 features and 569 instances. The target variable in this dataset is a diagnosis, either malignant or benign. This dataset can be found at:\n",
    "\n",
    "https://archive.ics.uci.edu/dataset/17/breast+cancer+wisconsin+diagnostic"
   ]
  },
  {
   "cell_type": "code",
   "execution_count": 128,
   "metadata": {},
   "outputs": [],
   "source": [
    "# because the dataset is from the UCI ML repo, we can use their functions to fetch from their website:\n",
    "\n",
    "breast_data = fetch_ucirepo(id = 17)\n",
    "\n",
    "# can now access the data:\n",
    "\n",
    "breast_x = breast_data.data.features\n",
    "breast_y = breast_data.data.targets"
   ]
  },
  {
   "cell_type": "markdown",
   "metadata": {},
   "source": [
    "# **Examine Dataset Properties**:\n",
    "\n",
    "Going to examine the properties of the dataset as part of an exploratory analysis."
   ]
  },
  {
   "cell_type": "code",
   "execution_count": 129,
   "metadata": {},
   "outputs": [
    {
     "name": "stdout",
     "output_type": "stream",
     "text": [
      "there are 569 examples in the dataset\n",
      "there are 30 distinct features to train on\n",
      "the available diagnoses are: ['M' 'B']\n",
      "the available features are: \n",
      "\n",
      "radius1\n",
      "texture1\n",
      "perimeter1\n",
      "area1\n",
      "smoothness1\n",
      "compactness1\n",
      "concavity1\n",
      "concave_points1\n",
      "symmetry1\n",
      "fractal_dimension1\n",
      "radius2\n",
      "texture2\n",
      "perimeter2\n",
      "area2\n",
      "smoothness2\n",
      "compactness2\n",
      "concavity2\n",
      "concave_points2\n",
      "symmetry2\n",
      "fractal_dimension2\n",
      "radius3\n",
      "texture3\n",
      "perimeter3\n",
      "area3\n",
      "smoothness3\n",
      "compactness3\n",
      "concavity3\n",
      "concave_points3\n",
      "symmetry3\n",
      "fractal_dimension3\n"
     ]
    }
   ],
   "source": [
    "# get the total number of instances:\n",
    "print(f\"there are {breast_x.shape[0]} examples in the dataset\")\n",
    "\n",
    "# get number of features:\n",
    "print(f\"there are {breast_x.shape[1]} distinct features to train on\")\n",
    "\n",
    "# get the number of unique target variables:\n",
    "print(f\"the available diagnoses are: {breast_y['Diagnosis'].unique()}\")\n",
    "\n",
    "# get the names of the features:\n",
    "print(f\"the available features are: \\n\")\n",
    "for col in breast_x.columns:\n",
    "    print(col)"
   ]
  },
  {
   "cell_type": "markdown",
   "metadata": {},
   "source": [
    "# **Dataset Pre-Processing**:\n",
    "\n",
    "Going to pre-process the dataset by performing the following:\n",
    "\n",
    "* remove the null values\n",
    "* scale the feature values to within a common range\n",
    "* encode the categorical labels into binary 0 or 1\n",
    "* split into training and testing data\n",
    "\n",
    "This is done to help realize the best model performance given the dataset."
   ]
  },
  {
   "cell_type": "code",
   "execution_count": 130,
   "metadata": {},
   "outputs": [
    {
     "name": "stdout",
     "output_type": "stream",
     "text": [
      "no null values detected in features\n",
      "no null values detected in labels\n"
     ]
    }
   ],
   "source": [
    "# check for null values in the features:\n",
    "\n",
    "null = breast_x.isnull().values.any()\n",
    "if null == True:\n",
    "    breast_x = breast_x.dropna()\n",
    "    print(f'null values removed from features')\n",
    "else:\n",
    "    print(f'no null values detected in features')\n",
    "\n",
    "# check for null values in the labels:\n",
    "\n",
    "null = breast_y.isnull().values.any()\n",
    "if null == True:\n",
    "    breast_y = breast_y.dropna()\n",
    "    print(f'null values removed from labels')\n",
    "else:\n",
    "    print(f'no null values detected in labels')\n"
   ]
  },
  {
   "cell_type": "markdown",
   "metadata": {},
   "source": [
    "Standardize values to improve ANN performance:"
   ]
  },
  {
   "cell_type": "code",
   "execution_count": 131,
   "metadata": {},
   "outputs": [
    {
     "name": "stdout",
     "output_type": "stream",
     "text": [
      "features scaled\n"
     ]
    }
   ],
   "source": [
    "# standardize values:\n",
    "\n",
    "scaler = StandardScaler()\n",
    "x_scaled = pd.DataFrame(scaler.fit_transform(breast_x))\n",
    "print('features scaled')"
   ]
  },
  {
   "cell_type": "markdown",
   "metadata": {},
   "source": [
    "Need to encode the categorical variables into binary values to be used in the ANN:"
   ]
  },
  {
   "cell_type": "code",
   "execution_count": 132,
   "metadata": {},
   "outputs": [
    {
     "name": "stdout",
     "output_type": "stream",
     "text": [
      "labels encoded: M = 1, B = 0\n"
     ]
    },
    {
     "data": {
      "text/html": [
       "<div>\n",
       "<style scoped>\n",
       "    .dataframe tbody tr th:only-of-type {\n",
       "        vertical-align: middle;\n",
       "    }\n",
       "\n",
       "    .dataframe tbody tr th {\n",
       "        vertical-align: top;\n",
       "    }\n",
       "\n",
       "    .dataframe thead th {\n",
       "        text-align: right;\n",
       "    }\n",
       "</style>\n",
       "<table border=\"1\" class=\"dataframe\">\n",
       "  <thead>\n",
       "    <tr style=\"text-align: right;\">\n",
       "      <th></th>\n",
       "      <th>Diagnosis</th>\n",
       "    </tr>\n",
       "  </thead>\n",
       "  <tbody>\n",
       "    <tr>\n",
       "      <th>0</th>\n",
       "      <td>1</td>\n",
       "    </tr>\n",
       "    <tr>\n",
       "      <th>1</th>\n",
       "      <td>1</td>\n",
       "    </tr>\n",
       "    <tr>\n",
       "      <th>2</th>\n",
       "      <td>1</td>\n",
       "    </tr>\n",
       "    <tr>\n",
       "      <th>3</th>\n",
       "      <td>1</td>\n",
       "    </tr>\n",
       "    <tr>\n",
       "      <th>4</th>\n",
       "      <td>1</td>\n",
       "    </tr>\n",
       "  </tbody>\n",
       "</table>\n",
       "</div>"
      ],
      "text/plain": [
       "   Diagnosis\n",
       "0          1\n",
       "1          1\n",
       "2          1\n",
       "3          1\n",
       "4          1"
      ]
     },
     "execution_count": 132,
     "metadata": {},
     "output_type": "execute_result"
    }
   ],
   "source": [
    "# encode benign to 0, and malignant to 1\n",
    "\n",
    "breast_y =  pd.DataFrame(breast_y['Diagnosis'].map(lambda row: 1 if row == 'M' else 0))\n",
    "print('labels encoded: M = 1, B = 0')\n",
    "breast_y.head()"
   ]
  },
  {
   "cell_type": "markdown",
   "metadata": {},
   "source": [
    "Finally need to create train/validation/test split:"
   ]
  },
  {
   "cell_type": "code",
   "execution_count": 274,
   "metadata": {},
   "outputs": [
    {
     "name": "stdout",
     "output_type": "stream",
     "text": [
      "training data has form: (455, 30), labels are: (455, 1)\n",
      "validation data has form: (57, 30), labels are: (57, 1)\n",
      "test data has form: (57, 30), labels are: (57, 1)\n"
     ]
    }
   ],
   "source": [
    "# partition data -> want 80% train, 10% validation, 10% testing\n",
    "\n",
    "x_train, dummy_x, y_train, dummy_y = train_test_split(x_scaled, breast_y, train_size = 0.8, test_size = 0.2)\n",
    "x_val, x_test, y_val, y_test = train_test_split(dummy_x, dummy_y, train_size = 0.5, test_size = 0.5)\n",
    "\n",
    "print(f\"training data has form: {x_train.shape}, labels are: {y_train.shape}\")\n",
    "print(f\"validation data has form: {x_val.shape}, labels are: {y_val.shape}\")\n",
    "print(f\"test data has form: {x_test.shape}, labels are: {y_test.shape}\")"
   ]
  },
  {
   "cell_type": "markdown",
   "metadata": {},
   "source": [
    "# **ANN Function Definition**\n",
    "\n",
    "Going to be using a class-based approach to defining the ANN, which will allow for instantiating, training, and querying of the network. Need to define the class itself as well as functions that will be used often, like the \n",
    "sigmoid function, relu, and their derivatives:\n"
   ]
  },
  {
   "cell_type": "code",
   "execution_count": 334,
   "metadata": {},
   "outputs": [],
   "source": [
    "# define useful functions:\n",
    "\n",
    "# logistic sigmoid function\n",
    "def sigmoid(x):\n",
    "    return 1 / (1 + np.exp(-x))\n",
    "\n",
    "# derivative of the sigmoid function\n",
    "def sigmoid_derivative(x):\n",
    "    return sigmoid(x) * (1 - sigmoid(x))\n",
    "\n",
    "# rectified linear unit (basically a straight line)\n",
    "def relu(x):\n",
    "    return np.maximum(0, x)\n",
    "\n",
    "# derivative function of relu (accepts np.arrays)\n",
    "def relu_derivative(x):\n",
    "    return (x > 0).astype(float)\n",
    "\n",
    "# binary cross entropy -> for binary classification between 0 & 1\n",
    "def binary_crossentropy_loss(target, output):\n",
    "    output = np.clip(output, 1e-10, 1 - 1e-10)\n",
    "    loss = - (target * np.log(output) + (1 - target) * np.log(1 - output))\n",
    "    return loss    # average loss "
   ]
  },
  {
   "cell_type": "code",
   "execution_count": null,
   "metadata": {},
   "outputs": [],
   "source": [
    "# create neural network class:\n",
    "\n",
    "class NeuralNetwork:\n",
    "    # constructor:\n",
    "    def __init__(self, input_size, hidden_size, output_size):\n",
    "        # assign function inputs as instance variables:\n",
    "        self.input_size = input_size\n",
    "        self.hidden_size = hidden_size\n",
    "        self.output_size = output_size\n",
    "\n",
    "        # need to randomly initialize weights and biases for the layers:\n",
    "\n",
    "        # from input to hidden:\n",
    "        self.w1 = np.random.randn(hidden_size, input_size)\n",
    "        self.b1 = np.random.randn(hidden_size, 1)\n",
    "\n",
    "        # from hidden to output:\n",
    "        self.w2 = np.random.randn(output_size, hidden_size)\n",
    "        self.b2 = np.random.randn(output_size, 1)\n",
    "\n",
    "    # feedforward function:\n",
    "    def forward_pass(self, x):\n",
    "        # turn x into a column vector:\n",
    "        x = x.reshape((self.input_size, 1))\n",
    "        # print(f'input has shape: {x.shape}')  # DEBUG\n",
    "\n",
    "        # from input to hidden:\n",
    "        self.net1 = np.dot(self.w1, x) + self.b1\n",
    "        # print(f'net 1 is shape: {self.net1.shape}')  # DEBUG\n",
    "        self.h1 = relu(self.net1)\n",
    "        # print(f'h1 is shape: {self.h1.shape}')  # DEBUG\n",
    "\n",
    "        # from hidden to output:\n",
    "        self.net2 = np.dot(self.w2, self.h1) + self.b2\n",
    "        # print(f'net2 is shape: {self.net2.shape}')  # DEBUG\n",
    "        self.o = sigmoid(self.net2)\n",
    "        # print(f'output is shape: {self.o.shape} \\n')  # DEBUG\n",
    "\n",
    "        return self.o\n",
    "    \n",
    "    # backpropagation:\n",
    "    def backward_pass(self, x, y, learning_rate):\n",
    "        # ensure x has the correct dimensions:\n",
    "        x = x.reshape((self.input_size, 1))\n",
    "\n",
    "        # get o - t:\n",
    "        o_error = self.o - y\n",
    "        # print(f'output error has shape: {o_error.shape}') # DEBUG\n",
    "\n",
    "        # get gradients for weights and biases at the output layer:\n",
    "        \n",
    "        de_dw2 = np.dot((o_error * sigmoid_derivative(self.net2)), self.h1.T)\n",
    "        # print(f'de/dw2 has shape {de_dw2.shape}') # DEBUG\n",
    "        de_db2 = o_error * sigmoid_derivative(self.net2)\n",
    "        # print(f'de/db2 has shape {de_db2.shape}') # DEBUG\n",
    "\n",
    "        # get gradients for weights and biases at the input layer:\n",
    "\n",
    "        delta_1 = np.dot(self.w2.T, o_error * sigmoid_derivative(self.net2)) * relu_derivative(self.net1)\n",
    "        # print(f'delta 1 has shape {delta_1.shape}') # DEBUG\n",
    "        # print(f'x transpose has shape {x.T.shape}') # DEBUG\n",
    "        de_dw1 = np.dot(delta_1, x.T)\n",
    "        # print(f'de/dw1 has shape {de_dw1.shape}') # DEBUG\n",
    "        de_db1 = delta_1\n",
    "        # print(f'de/db1 has shape {de_db1.shape}') # DEBUG\n",
    "\n",
    "        # update weights and biases:\n",
    "\n",
    "        self.w1 -= learning_rate  * de_dw1\n",
    "        self.b1 -= learning_rate  * de_db1\n",
    "        self.w2 -= learning_rate  * de_dw2\n",
    "        self.b2 -= learning_rate  * de_db2\n",
    "\n",
    "    # training:\n",
    "    def train(self, x_train, y_train, x_val, y_val, epochs, learning_rate):\n",
    "        # used in the plotting\n",
    "        self.epochs = epochs\n",
    "        \n",
    "        # initialize lists for appending train and val history to:\n",
    "        train_loss_history = []\n",
    "        val_loss_history = []\n",
    "\n",
    "        # for every epoch:\n",
    "        for epoch in range(epochs):\n",
    "            total_train_loss = 0    # reset train loss for new epoch\n",
    "            total_val_loss = 0      # reset val loss for new epoch\n",
    "\n",
    "            # training loop:\n",
    "            for i in range(x_train.shape[0]):\n",
    "                # extract examples:\n",
    "                x = x_train.iloc[i].values\n",
    "\n",
    "                # get target for that example:\n",
    "                target = y_train.iloc[i].values\n",
    "\n",
    "                # compute forward pass:\n",
    "                output = self.forward_pass(x)\n",
    "\n",
    "                # backpropagate\n",
    "                self.backward_pass(x, target, learning_rate)\n",
    "\n",
    "                # get loss:\n",
    "                loss = binary_crossentropy_loss(target, output)\n",
    "                total_train_loss += loss    # add to total loss  \n",
    "\n",
    "            # get average BCE for train:\n",
    "            average_train_loss_per_epoch = total_train_loss / x_train.shape[0]\n",
    "            train_loss_history.append(average_train_loss_per_epoch)\n",
    "\n",
    "            # validation loop:\n",
    "            for i in range(x_val.shape[0]):\n",
    "                # extract examples:\n",
    "                x = x_val.iloc[i].values\n",
    "\n",
    "                # get target for that example:\n",
    "                target = y_val.iloc[i].values\n",
    "\n",
    "                # compute forward pass:\n",
    "                output = self.forward_pass(x)\n",
    "\n",
    "                # get loss:\n",
    "                loss = binary_crossentropy_loss(target, output)\n",
    "                total_val_loss += loss    # add to total loss \n",
    "            \n",
    "            # get average BCE for val:\n",
    "            average_val_loss_per_epoch = total_val_loss / x_val.shape[0]\n",
    "            val_loss_history.append(average_val_loss_per_epoch)\n",
    "            \n",
    "            print(f\"epoch: {epoch + 1}/{epochs} | train loss was: {float(average_train_loss_per_epoch)} | val loss was: {float(average_val_loss_per_epoch)}\")  \n",
    "\n",
    "        return np.array(train_loss_history).reshape(-1, 1), np.array(val_loss_history).reshape(-1, 1)\n"
   ]
  },
  {
   "cell_type": "code",
   "execution_count": 370,
   "metadata": {},
   "outputs": [],
   "source": [
    "nn = NeuralNetwork(input_size = 30, hidden_size = 30, output_size = 1)"
   ]
  },
  {
   "cell_type": "code",
   "execution_count": 371,
   "metadata": {},
   "outputs": [
    {
     "name": "stderr",
     "output_type": "stream",
     "text": [
      "C:\\Users\\mtidd2\\AppData\\Local\\Temp\\ipykernel_388\\3087594219.py:129: DeprecationWarning: Conversion of an array with ndim > 0 to a scalar is deprecated, and will error in future. Ensure you extract a single element from your array before performing this operation. (Deprecated NumPy 1.25.)\n",
      "  print(f\"epoch: {epoch + 1}/{epochs} | train loss was: {float(average_train_loss_per_epoch)} | val loss was: {float(average_val_loss_per_epoch)}\")\n"
     ]
    },
    {
     "name": "stdout",
     "output_type": "stream",
     "text": [
      "epoch: 1/100 | train loss was: 3.7888615919735327 | val loss was: 2.1225089067828993\n",
      "epoch: 2/100 | train loss was: 1.8156792310029037 | val loss was: 1.0025969152897336\n",
      "epoch: 3/100 | train loss was: 1.2683392355010306 | val loss was: 0.8045639242732724\n",
      "epoch: 4/100 | train loss was: 1.1485793332688117 | val loss was: 0.7489203955110062\n",
      "epoch: 5/100 | train loss was: 1.0796916617995425 | val loss was: 0.7111835014881446\n",
      "epoch: 6/100 | train loss was: 1.0097512554833217 | val loss was: 0.6772540637776231\n",
      "epoch: 7/100 | train loss was: 0.9398719876490954 | val loss was: 0.6106703865418946\n",
      "epoch: 8/100 | train loss was: 0.8830954436154156 | val loss was: 0.5419529551645805\n",
      "epoch: 9/100 | train loss was: 0.8152350981822505 | val loss was: 0.4806899247129738\n",
      "epoch: 10/100 | train loss was: 0.7461085620218645 | val loss was: 0.42428071670004996\n",
      "epoch: 11/100 | train loss was: 0.6899137226067074 | val loss was: 0.3804653168456228\n",
      "epoch: 12/100 | train loss was: 0.6492922791076047 | val loss was: 0.3517781109645949\n",
      "epoch: 13/100 | train loss was: 0.6158363402994349 | val loss was: 0.33513335699446506\n",
      "epoch: 14/100 | train loss was: 0.6033581525349899 | val loss was: 0.31878740682727574\n",
      "epoch: 15/100 | train loss was: 0.591969900168818 | val loss was: 0.3054237332852244\n",
      "epoch: 16/100 | train loss was: 0.5824210440688166 | val loss was: 0.29093226432951746\n",
      "epoch: 17/100 | train loss was: 0.5746905328824398 | val loss was: 0.2741955317638519\n",
      "epoch: 18/100 | train loss was: 0.5696035019026936 | val loss was: 0.25755259940819814\n",
      "epoch: 19/100 | train loss was: 0.5660714976860698 | val loss was: 0.24619670968744098\n",
      "epoch: 20/100 | train loss was: 0.5625526446338344 | val loss was: 0.2371917174233667\n",
      "epoch: 21/100 | train loss was: 0.5587545920122279 | val loss was: 0.2294838464448896\n",
      "epoch: 22/100 | train loss was: 0.5546356387391107 | val loss was: 0.22283532676480558\n",
      "epoch: 23/100 | train loss was: 0.5502210972298253 | val loss was: 0.21709888017412662\n",
      "epoch: 24/100 | train loss was: 0.5459398365682386 | val loss was: 0.21172464040975797\n",
      "epoch: 25/100 | train loss was: 0.5422758789332456 | val loss was: 0.20606588150114694\n",
      "epoch: 26/100 | train loss was: 0.538506362043083 | val loss was: 0.19995364873192994\n",
      "epoch: 27/100 | train loss was: 0.534822842755885 | val loss was: 0.1932795128901\n",
      "epoch: 28/100 | train loss was: 0.5309900963772995 | val loss was: 0.1857730965333285\n",
      "epoch: 29/100 | train loss was: 0.5269131835511165 | val loss was: 0.17717997094019391\n",
      "epoch: 30/100 | train loss was: 0.5226804310018688 | val loss was: 0.16799064389636084\n",
      "epoch: 31/100 | train loss was: 0.51852360956803 | val loss was: 0.16018738267954583\n",
      "epoch: 32/100 | train loss was: 0.5143957201183137 | val loss was: 0.15452974413044915\n",
      "epoch: 33/100 | train loss was: 0.5102183496512994 | val loss was: 0.15023601020323027\n",
      "epoch: 34/100 | train loss was: 0.5060063198734007 | val loss was: 0.14674854551513258\n",
      "epoch: 35/100 | train loss was: 0.5017316402820463 | val loss was: 0.14380050858784374\n",
      "epoch: 36/100 | train loss was: 0.4973617103396881 | val loss was: 0.14125514180918256\n",
      "epoch: 37/100 | train loss was: 0.492824059209041 | val loss was: 0.13903427234493135\n",
      "epoch: 38/100 | train loss was: 0.4881387097917397 | val loss was: 0.1371161989357095\n",
      "epoch: 39/100 | train loss was: 0.48334226615441167 | val loss was: 0.13548602414089006\n",
      "epoch: 40/100 | train loss was: 0.4785077090595703 | val loss was: 0.13412835450622246\n",
      "epoch: 41/100 | train loss was: 0.4738013571543276 | val loss was: 0.13300590832423975\n",
      "epoch: 42/100 | train loss was: 0.4693915538006508 | val loss was: 0.13205435462992124\n",
      "epoch: 43/100 | train loss was: 0.4654359980048058 | val loss was: 0.13119221612276058\n",
      "epoch: 44/100 | train loss was: 0.46197234377644164 | val loss was: 0.13035686565131754\n",
      "epoch: 45/100 | train loss was: 0.4590079178467116 | val loss was: 0.12954733422704218\n",
      "epoch: 46/100 | train loss was: 0.4564315356218864 | val loss was: 0.12873011504464646\n",
      "epoch: 47/100 | train loss was: 0.4541816659336342 | val loss was: 0.12790619828929423\n",
      "epoch: 48/100 | train loss was: 0.45220611230361113 | val loss was: 0.12707426165036442\n",
      "epoch: 49/100 | train loss was: 0.45047057956890996 | val loss was: 0.12623099694311754\n",
      "epoch: 50/100 | train loss was: 0.44896954767232194 | val loss was: 0.12537404017510528\n",
      "epoch: 51/100 | train loss was: 0.4476631533934125 | val loss was: 0.12450510834704795\n",
      "epoch: 52/100 | train loss was: 0.44650000833558645 | val loss was: 0.12363049341486257\n",
      "epoch: 53/100 | train loss was: 0.4454718345347946 | val loss was: 0.12275912121284119\n",
      "epoch: 54/100 | train loss was: 0.44454599759230273 | val loss was: 0.12190010870375444\n",
      "epoch: 55/100 | train loss was: 0.4436926720940959 | val loss was: 0.12106276511658073\n",
      "epoch: 56/100 | train loss was: 0.44291053008965847 | val loss was: 0.12025485705241969\n",
      "epoch: 57/100 | train loss was: 0.44217585417407834 | val loss was: 0.11948268293680557\n",
      "epoch: 58/100 | train loss was: 0.4414844472399677 | val loss was: 0.11883384120643435\n",
      "epoch: 59/100 | train loss was: 0.44081765563015857 | val loss was: 0.11823544750439083\n",
      "epoch: 60/100 | train loss was: 0.4401770586727617 | val loss was: 0.11760421463104867\n",
      "epoch: 61/100 | train loss was: 0.43954785004142327 | val loss was: 0.11711650845593023\n",
      "epoch: 62/100 | train loss was: 0.43893725512106774 | val loss was: 0.11669145959374931\n",
      "epoch: 63/100 | train loss was: 0.4383427063031107 | val loss was: 0.1162395935680496\n",
      "epoch: 64/100 | train loss was: 0.4377448951694554 | val loss was: 0.11595535790183399\n",
      "epoch: 65/100 | train loss was: 0.43716402975691415 | val loss was: 0.11575591646949593\n",
      "epoch: 66/100 | train loss was: 0.43657853106276057 | val loss was: 0.11554550824157878\n",
      "epoch: 67/100 | train loss was: 0.43597112468264615 | val loss was: 0.11553829300353549\n",
      "epoch: 68/100 | train loss was: 0.43534872179510253 | val loss was: 0.11553064597963236\n",
      "epoch: 69/100 | train loss was: 0.4347200295118161 | val loss was: 0.11574868134373097\n",
      "epoch: 70/100 | train loss was: 0.43408200511683015 | val loss was: 0.11608734270806814\n",
      "epoch: 71/100 | train loss was: 0.4334239249823137 | val loss was: 0.11643548604026767\n",
      "epoch: 72/100 | train loss was: 0.43275568897690203 | val loss was: 0.11703146937660126\n",
      "epoch: 73/100 | train loss was: 0.43204796794422373 | val loss was: 0.117616878944409\n",
      "epoch: 74/100 | train loss was: 0.43130644607323365 | val loss was: 0.11847275043082575\n",
      "epoch: 75/100 | train loss was: 0.4305745449564739 | val loss was: 0.11931127417323624\n",
      "epoch: 76/100 | train loss was: 0.42985339989115307 | val loss was: 0.12042001058707047\n",
      "epoch: 77/100 | train loss was: 0.42914497435223503 | val loss was: 0.121484776846922\n",
      "epoch: 78/100 | train loss was: 0.42844808118337924 | val loss was: 0.12281792163029871\n",
      "epoch: 79/100 | train loss was: 0.4277893278722762 | val loss was: 0.12407462520025435\n",
      "epoch: 80/100 | train loss was: 0.4271385845218694 | val loss was: 0.1255949938816985\n",
      "epoch: 81/100 | train loss was: 0.42645830732048634 | val loss was: 0.12699588483429353\n",
      "epoch: 82/100 | train loss was: 0.42575103358553473 | val loss was: 0.12864351302167243\n",
      "epoch: 83/100 | train loss was: 0.42510838345591967 | val loss was: 0.13010391027864224\n",
      "epoch: 84/100 | train loss was: 0.4244412205910679 | val loss was: 0.13157821850919307\n",
      "epoch: 85/100 | train loss was: 0.42383140007442793 | val loss was: 0.13324971351841408\n",
      "epoch: 86/100 | train loss was: 0.42324526897340103 | val loss was: 0.13466366928503673\n",
      "epoch: 87/100 | train loss was: 0.4226766817008383 | val loss was: 0.13602326381609267\n",
      "epoch: 88/100 | train loss was: 0.42216562253543993 | val loss was: 0.13755529372693642\n",
      "epoch: 89/100 | train loss was: 0.42165728137518205 | val loss was: 0.1387875048727743\n",
      "epoch: 90/100 | train loss was: 0.42116579678297167 | val loss was: 0.1401901255334239\n",
      "epoch: 91/100 | train loss was: 0.420679014054691 | val loss was: 0.14128767881603477\n",
      "epoch: 92/100 | train loss was: 0.4201817733385165 | val loss was: 0.1423205075787311\n",
      "epoch: 93/100 | train loss was: 0.4197162120064696 | val loss was: 0.14353650179778385\n",
      "epoch: 94/100 | train loss was: 0.41921919520161927 | val loss was: 0.144459237281042\n",
      "epoch: 95/100 | train loss was: 0.4187213377562059 | val loss was: 0.1455685070247896\n",
      "epoch: 96/100 | train loss was: 0.41820220383420037 | val loss was: 0.1463860647647369\n",
      "epoch: 97/100 | train loss was: 0.41767544362907993 | val loss was: 0.14739222160252113\n",
      "epoch: 98/100 | train loss was: 0.4171364003371743 | val loss was: 0.1481134312009322\n",
      "epoch: 99/100 | train loss was: 0.41657554365687405 | val loss was: 0.1487884994553818\n",
      "epoch: 100/100 | train loss was: 0.41604576976532437 | val loss was: 0.14965552453620753\n"
     ]
    }
   ],
   "source": [
    "train_loss_history, val_loss_history = nn.train(x_train, y_train, x_val, y_val, epochs = 100, learning_rate = 0.005)"
   ]
  },
  {
   "cell_type": "markdown",
   "metadata": {},
   "source": [
    "Plot the mean training loss per sample as a function of the epochs:"
   ]
  },
  {
   "cell_type": "code",
   "execution_count": 375,
   "metadata": {},
   "outputs": [
    {
     "data": {
      "image/png": "[encoded data removed]",
      "text/plain": [
       "<Figure size 1200x600 with 1 Axes>"
      ]
     },
     "metadata": {},
     "output_type": "display_data"
    }
   ],
   "source": [
    "# plotting stuff:\n",
    "\n",
    "# GET VALIDATION DATA IN SPLIT AND ALSO VALIDATE AND THEN PLOT THAT WITH THIS AND THEN DO TESTING AND IF ITS NOT SHIT YOU ARE DONE\n",
    "\n",
    "epochs = np.arange(1, nn.epochs + 1, 1).reshape(-1,1)\n",
    "\n",
    "fig = plt.figure(figsize = (12,6))\n",
    "\n",
    "# plot train\n",
    "plt.plot(epochs, train_loss_history, label = 'training')\n",
    "plt.plot(epochs, val_loss_history, label = 'validation')\n",
    "plt.title('loss vs. epochs')\n",
    "plt.ylabel('average binary crossentropy loss per sample')\n",
    "plt.xlabel('epochs')\n",
    "plt.legend()\n",
    "plt.xlim([1, nn.epochs])\n",
    "plt.grid('both')\n",
    "plt.show()"
   ]
  },
  {
   "cell_type": "markdown",
   "metadata": {},
   "source": [
    "# **Testing the Model**:\n",
    "\n",
    "Now that the model has been sufficiently trained, we can test its accuracy on the test set of the data that was partitioned previously"
   ]
  }
 ],
 "metadata": {
  "kernelspec": {
   "display_name": "Python 3",
   "language": "python",
   "name": "python3"
  },
  "language_info": {
   "codemirror_mode": {
    "name": "ipython",
    "version": 3
   },
   "file_extension": ".py",
   "mimetype": "text/x-python",
   "name": "python",
   "nbconvert_exporter": "python",
   "pygments_lexer": "ipython3",
   "version": "3.12.5"
  }
 },
 "nbformat": 4,
 "nbformat_minor": 2
}
